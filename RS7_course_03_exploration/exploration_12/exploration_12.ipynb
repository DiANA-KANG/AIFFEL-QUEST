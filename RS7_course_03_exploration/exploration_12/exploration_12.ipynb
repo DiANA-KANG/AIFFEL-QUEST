{
 "cells": [
  {
   "cell_type": "markdown",
   "id": "09ef77ad",
   "metadata": {},
   "source": [
    "# 프로젝트 : 뉴스 요약봇 만들기\n",
    "⭐️ Abstractive 모델 구성을 위한 텍스트 전처리 단계가 체계적으로 진행되었다. 분석단계, 정제단계, 정규화와 불용어 제거, 데이터셋 분리, 인코딩 과정이 빠짐없이 체계적으로 진행되었다.  \n",
    "⭐️ 텍스트 요약모델이 성공적으로 학습되었음을 확인하였다. 모델 학습이 진행되면서 train loss와 validation loss가 감소하는 경향을 그래프를 통해 확인했으며, 실제 요약문에 있는 핵심 단어들이 요약 문장 안에 포함되었다.  \n",
    "⭐️ Extractive 요약을 시도해 보고 Abstractive 요약 결과과 함께 비교해 보았다.\t두 요약 결과를 문법완성도 측면과 핵심단어 포함 측면으로 나누어 비교하고 분석 결과를 표로 정리하여 제시하였다.  "
   ]
  },
  {
   "cell_type": "markdown",
   "id": "4330b542",
   "metadata": {},
   "source": [
    "### ✏️ Import libraries & packages"
   ]
  },
  {
   "cell_type": "code",
   "execution_count": 1,
   "id": "d041ab79",
   "metadata": {},
   "outputs": [
    {
     "name": "stderr",
     "output_type": "stream",
     "text": [
      "[nltk_data] Downloading package stopwords to /aiffel/nltk_data...\n",
      "[nltk_data]   Unzipping corpora/stopwords.zip.\n"
     ]
    }
   ],
   "source": [
    "# import data tools\n",
    "import numpy as np\n",
    "import pandas as pd\n",
    "\n",
    "\n",
    "# import useful tools\n",
    "import re     # regular expression\n",
    "import os     # get system environment variables\n",
    "import urllib.request    # url download\n",
    "\n",
    "import warnings    # set warning indication\n",
    "warnings.filterwarnings(\"ignore\", category=UserWarning, module='bs4')\n",
    "\n",
    "\n",
    "# import visual tools\n",
    "import matplotlib.pyplot as plt\n",
    "import seaborn as sns\n",
    "\n",
    "\n",
    "# import natural language tools\n",
    "from bs4 import BeautifulSoup        # handling html tags\n",
    "from nltk.corpus import stopwords    # handling stopwords\n",
    "import nltk\n",
    "nltk.download('stopwords')\n",
    "\n",
    "# import Tensorflow DL tools\n",
    "import tensorflow    # abstractive summary\n",
    "from tensorflow.keras.preprocessing.text import Tokenizer \n",
    "from tensorflow.keras.preprocessing.sequence import pad_sequences\n",
    "from tensorflow.keras.layers import Input, LSTM, Embedding, Dense, Concatenate, TimeDistributed\n",
    "from tensorflow.keras.layers import AdditiveAttention\n",
    "from tensorflow.keras.models import Model\n",
    "from tensorflow.keras.callbacks import EarlyStopping, ModelCheckpoint\n",
    "\n",
    "from summa.summarizer import summarize    # extractive summary"
   ]
  },
  {
   "cell_type": "markdown",
   "id": "46abaa11",
   "metadata": {},
   "source": [
    "### ✏️ Define constants"
   ]
  },
  {
   "cell_type": "code",
   "execution_count": 2,
   "id": "946c6c0a",
   "metadata": {},
   "outputs": [],
   "source": [
    "# column index number\n",
    "HEADLINES = 0\n",
    "TEXT = 1\n",
    "\n",
    "# max length of data for ML model\n",
    "MAX_TEXT_LEN = 38\n",
    "MAX_HEADLINES_LEN = 8\n",
    "\n",
    "# minimum frequency of vocabularies to use in learning model for source & target data\n",
    "SRC_MIN_FREQUENCY = 6\n",
    "TAR_MIN_FREQUENCY = 3\n",
    "\n",
    "# total size of vocabularies for source & target data\n",
    "SRC_VOCAB_SIZE = 20000\n",
    "TAR_VOCAB_SIZE = 13000\n",
    "\n",
    "# integer encoding\n",
    "PAD = 0\n",
    "SOS = 1\n",
    "EOS = 2\n",
    "\n",
    "# learning model configurations\n",
    "EMBEDDING_DIM = 128\n",
    "HIDDEN_SIZE = 256\n",
    "\n",
    "# early stopping patience\n",
    "BATCH_SIZE = 256\n",
    "EPOCHS = 50\n",
    "ES_PATIENCE = 2\n",
    "\n",
    "# length of print text divider (\"=====\")\n",
    "DIVISOR_LENGTH = 70"
   ]
  },
  {
   "cell_type": "markdown",
   "id": "8c1a6daa",
   "metadata": {},
   "source": [
    "### ✏️ Define useful methods"
   ]
  },
  {
   "cell_type": "code",
   "execution_count": 3,
   "id": "75654cd7",
   "metadata": {},
   "outputs": [],
   "source": [
    "def print_divider(length = DIVISOR_LENGTH):\n",
    "    print(\"=\" * length)"
   ]
  },
  {
   "cell_type": "markdown",
   "id": "d2103fe5",
   "metadata": {},
   "source": [
    "### ✏️ Define NL data handling variables"
   ]
  },
  {
   "cell_type": "code",
   "execution_count": 4,
   "id": "1bc63f59",
   "metadata": {},
   "outputs": [],
   "source": [
    "# dictionary for English text normalization (length : 120)\n",
    "contractions = {\"ain't\": \"is not\", \"aren't\": \"are not\",\"can't\": \"cannot\", \"'cause\": \"because\", \"could've\": \"could have\", \"couldn't\": \"could not\",\n",
    "                           \"didn't\": \"did not\",  \"doesn't\": \"does not\", \"don't\": \"do not\", \"hadn't\": \"had not\", \"hasn't\": \"has not\", \"haven't\": \"have not\",\n",
    "                           \"he'd\": \"he would\",\"he'll\": \"he will\", \"he's\": \"he is\", \"how'd\": \"how did\", \"how'd'y\": \"how do you\", \"how'll\": \"how will\", \"how's\": \"how is\",\n",
    "                           \"I'd\": \"I would\", \"I'd've\": \"I would have\", \"I'll\": \"I will\", \"I'll've\": \"I will have\",\"I'm\": \"I am\", \"I've\": \"I have\", \"i'd\": \"i would\",\n",
    "                           \"i'd've\": \"i would have\", \"i'll\": \"i will\",  \"i'll've\": \"i will have\",\"i'm\": \"i am\", \"i've\": \"i have\", \"isn't\": \"is not\", \"it'd\": \"it would\",\n",
    "                           \"it'd've\": \"it would have\", \"it'll\": \"it will\", \"it'll've\": \"it will have\",\"it's\": \"it is\", \"let's\": \"let us\", \"ma'am\": \"madam\",\n",
    "                           \"mayn't\": \"may not\", \"might've\": \"might have\",\"mightn't\": \"might not\",\"mightn't've\": \"might not have\", \"must've\": \"must have\",\n",
    "                           \"mustn't\": \"must not\", \"mustn't've\": \"must not have\", \"needn't\": \"need not\", \"needn't've\": \"need not have\",\"o'clock\": \"of the clock\",\n",
    "                           \"oughtn't\": \"ought not\", \"oughtn't've\": \"ought not have\", \"shan't\": \"shall not\", \"sha'n't\": \"shall not\", \"shan't've\": \"shall not have\",\n",
    "                           \"she'd\": \"she would\", \"she'd've\": \"she would have\", \"she'll\": \"she will\", \"she'll've\": \"she will have\", \"she's\": \"she is\",\n",
    "                           \"should've\": \"should have\", \"shouldn't\": \"should not\", \"shouldn't've\": \"should not have\", \"so've\": \"so have\",\"so's\": \"so as\",\n",
    "                           \"this's\": \"this is\",\"that'd\": \"that would\", \"that'd've\": \"that would have\", \"that's\": \"that is\", \"there'd\": \"there would\",\n",
    "                           \"there'd've\": \"there would have\", \"there's\": \"there is\", \"here's\": \"here is\",\"they'd\": \"they would\", \"they'd've\": \"they would have\",\n",
    "                           \"they'll\": \"they will\", \"they'll've\": \"they will have\", \"they're\": \"they are\", \"they've\": \"they have\", \"to've\": \"to have\",\n",
    "                           \"wasn't\": \"was not\", \"we'd\": \"we would\", \"we'd've\": \"we would have\", \"we'll\": \"we will\", \"we'll've\": \"we will have\", \"we're\": \"we are\",\n",
    "                           \"we've\": \"we have\", \"weren't\": \"were not\", \"what'll\": \"what will\", \"what'll've\": \"what will have\", \"what're\": \"what are\",\n",
    "                           \"what's\": \"what is\", \"what've\": \"what have\", \"when's\": \"when is\", \"when've\": \"when have\", \"where'd\": \"where did\", \"where's\": \"where is\",\n",
    "                           \"where've\": \"where have\", \"who'll\": \"who will\", \"who'll've\": \"who will have\", \"who's\": \"who is\", \"who've\": \"who have\",\n",
    "                           \"why's\": \"why is\", \"why've\": \"why have\", \"will've\": \"will have\", \"won't\": \"will not\", \"won't've\": \"will not have\",\n",
    "                           \"would've\": \"would have\", \"wouldn't\": \"would not\", \"wouldn't've\": \"would not have\", \"y'all\": \"you all\",\n",
    "                           \"y'all'd\": \"you all would\",\"y'all'd've\": \"you all would have\",\"y'all're\": \"you all are\",\"y'all've\": \"you all have\",\n",
    "                           \"you'd\": \"you would\", \"you'd've\": \"you would have\", \"you'll\": \"you will\", \"you'll've\": \"you will have\",\n",
    "                           \"you're\": \"you are\", \"you've\": \"you have\"}\n",
    "\n",
    "\n",
    "# English stopwords (length : 179)\n",
    "stopwords_en = stopwords.words(\"english\")"
   ]
  },
  {
   "cell_type": "markdown",
   "id": "dfb0f9fe",
   "metadata": {},
   "source": [
    "### ✏️ Define NL data pre-processing methods"
   ]
  },
  {
   "cell_type": "code",
   "execution_count": 5,
   "id": "74916825",
   "metadata": {},
   "outputs": [],
   "source": [
    "# overall pre-processing on NL data\n",
    "def preprocess_sentence(sentence, remove_stopwords = True):\n",
    "    sentence = sentence.lower()                         # convert all characters into lowercases\n",
    "    sentence = BeautifulSoup(sentence, \"lxml\").text     # remove all HTML tags\n",
    "    sentence = re.sub(r'\\([^)]*\\)', '', sentence)       # remove all texts within parenthesis()\n",
    "    sentence = re.sub('\"','', sentence)                 # remove all quote symbol marks (\"\")\n",
    "    sentence = ' '.join([contractions[t] if t in contractions else t for t in sentence.split(\" \")])\n",
    "                                                        # text normalization acoording to constractions dictionary\n",
    "    sentence = re.sub(r\"'s\\b\",\"\", sentence)             # cnovert all expressions with possesive words\n",
    "    sentence = re.sub(\"[^a-zA-Z]\", \" \", sentence)       # remove all symbol marks including digits\n",
    "    sentence = re.sub('[m]{2,}', 'mm', sentence)        # convert continuous \"m\"s more than 3\n",
    "    \n",
    "    \n",
    "    ### remove_stopwords : option to decide whether remove stopwords or not\n",
    "    # split sentnece into list of words -> remove stopwords & 1-character-long words -> concatenate as one string\n",
    "    if remove_stopwords:\n",
    "        result = ' '.join(word for word in sentence.split() if not word in stopwords.words('english') if len(word) > 1)\n",
    "    \n",
    "    # keep stopwords -> remove 1-character-long words -> concatenate as one string\n",
    "    else:\n",
    "        result = ' '.join(word for word in sentence.split() if len(word) > 1)\n",
    "    \n",
    "    \n",
    "    return result"
   ]
  },
  {
   "cell_type": "markdown",
   "id": "ef9e2190",
   "metadata": {},
   "source": [
    "---"
   ]
  },
  {
   "cell_type": "markdown",
   "id": "1fd40cce",
   "metadata": {},
   "source": [
    "### ✏️ Load dataset"
   ]
  },
  {
   "cell_type": "code",
   "execution_count": 6,
   "id": "7157fce6",
   "metadata": {},
   "outputs": [
    {
     "name": "stdout",
     "output_type": "stream",
     "text": [
      "(98401, 2)\n",
      "Index(['headlines', 'text'], dtype='object')\n",
      "======================================================================\n",
      "                                               headlines  \\\n",
      "90716  Police complaint against Snapdeal for non-paym...   \n",
      "95373  Ex-Delhi Minister AK Walia quits Congress befo...   \n",
      "31563  Cricketer beats 60 lakh people to win fantasy ...   \n",
      "61694  My body had two major transformations in over ...   \n",
      "18210  Kerala nuns protest demanding arrest of rape a...   \n",
      "23830  64-yr-old sets record by swimming 3 km with ha...   \n",
      "61199  Andhra Pradesh hosts its first Hot Air Balloon...   \n",
      "14565  US Navy veteran charged for mailing toxic lett...   \n",
      "37322  No action taken by Pakistan to get Taliban to ...   \n",
      "92851  Advani, Uma to face conspiracy charges in Babr...   \n",
      "\n",
      "                                                    text  \n",
      "90716  Bengaluru-based apparel seller Rajdhani Cotton...  \n",
      "95373  AK Walia, who was Health Minister in former De...  \n",
      "31563  England's second-highest Test wicket-taker Stu...  \n",
      "61694  Actress Bhumi Pednekar has said that in two an...  \n",
      "18210  A group of nuns in Kerala on Saturday staged a...  \n",
      "23830  A 64-year-old Bulgarian man swam 3.38 kilometr...  \n",
      "61199  Andhra Pradesh is hosting its first Hot Air Ba...  \n",
      "14565  William Clyde Allen III, a US Navy veteran has...  \n",
      "37322  Pakistan has not taken any \"sustained\" or \"dec...  \n",
      "92851  The Supreme Court on Wednesday ruled that BJP ...  \n"
     ]
    }
   ],
   "source": [
    "# news articls dataset url\n",
    "urllib.request.urlretrieve(\"https://raw.githubusercontent.com/sunnysai12345/News_Summary/master/news_summary_more.csv\", filename=\"news_summary_more.csv\")\n",
    "\n",
    "# download dataset from url\n",
    "data = pd.read_csv(\"news_summary_more.csv\", encoding = \"iso-8859-1\")\n",
    "\n",
    "# analysis of dataset\n",
    "print(data.shape)         # total 98401 samples with 2 columns\n",
    "print(data.columns)       # total 2 columns : \"text\" as main content, \"headlines\" as its summary \n",
    "print_divider()\n",
    "print(data.sample(10))    # pick random 10 samples"
   ]
  },
  {
   "cell_type": "markdown",
   "id": "8b01a290",
   "metadata": {},
   "source": [
    "### ✏️ Pre-process on dataset 1 : remove duplicated & null values"
   ]
  },
  {
   "cell_type": "markdown",
   "id": "7e80a3c3",
   "metadata": {},
   "source": [
    "1. Remove **duplicated** data"
   ]
  },
  {
   "cell_type": "code",
   "execution_count": 7,
   "id": "8dc0234f",
   "metadata": {},
   "outputs": [
    {
     "name": "stdout",
     "output_type": "stream",
     "text": [
      ">>> Total samples                                   :  98401\n",
      ">>> The number of unique values in TEXT column      :  98360\n",
      ">>> The number of unique values in HEADLINES column :  98280\n",
      "======================================================================\n",
      ">>> Total 41 duplicated sample data removed.\n",
      ">>> Total samples                                   :  98360\n"
     ]
    }
   ],
   "source": [
    "# count unique values in each column\n",
    "original_sample_cnt = len(data)\n",
    "print(\">>> Total samples                                   : \", original_sample_cnt)\n",
    "print(\">>> The number of unique values in TEXT column      : \", data[\"text\"].nunique())\n",
    "print(\">>> The number of unique values in HEADLINES column : \", data[\"headlines\"].nunique())\n",
    "\n",
    "print_divider()\n",
    "\n",
    "# remove duplicated data in TEXT columns\n",
    "# keep duplicated in HEADLINES columns, because it might include use commonly frequent words\n",
    "data.drop_duplicates(subset = [\"text\"], inplace=True)\n",
    "unique_sample_cnt = len(data)\n",
    "print(\">>> Total\", original_sample_cnt - unique_sample_cnt, \"duplicated sample data removed.\")\n",
    "print(\">>> Total samples                                   : \", unique_sample_cnt)"
   ]
  },
  {
   "cell_type": "markdown",
   "id": "bb69bba5",
   "metadata": {},
   "source": [
    "2. Remove **NULL** data"
   ]
  },
  {
   "cell_type": "code",
   "execution_count": 8,
   "id": "563b56d6",
   "metadata": {},
   "outputs": [
    {
     "name": "stdout",
     "output_type": "stream",
     "text": [
      "headlines    0\n",
      "text         0\n",
      "dtype: int64\n",
      "======================================================================\n",
      ">>> Total 0 empty sample data removed.\n",
      ">>> Total samples :  98360\n"
     ]
    }
   ],
   "source": [
    "# count empty values in each column\n",
    "print(data.isnull().sum())\n",
    "\n",
    "print_divider()\n",
    "\n",
    "# remove data including empty values\n",
    "data.dropna(axis=0, inplace=True)\n",
    "filled_sample_cnt = len(data)\n",
    "print(\">>> Total\", unique_sample_cnt - filled_sample_cnt, \"empty sample data removed.\")\n",
    "print(\">>> Total samples : \", filled_sample_cnt)"
   ]
  },
  {
   "cell_type": "markdown",
   "id": "75b397e7",
   "metadata": {},
   "source": [
    "### ✏️ Pre-process on dataset 2 : Overall NL pre-process\n",
    "   - Convert into lower cases  \n",
    "   - Remove HTML tags, texts within parenthesis, symbolic characters, possesive expressions\n",
    "   - Convert expressions with contractions, pssesive words, and continuous \"m\"s (\"Hmmmmm\" -> \"Hmm\")"
   ]
  },
  {
   "cell_type": "markdown",
   "id": "98d564f8",
   "metadata": {},
   "source": [
    "1. Pre-process on data in **TEXT** column"
   ]
  },
  {
   "cell_type": "code",
   "execution_count": 9,
   "id": "127ef863",
   "metadata": {},
   "outputs": [
    {
     "name": "stdout",
     "output_type": "stream",
     "text": [
      "Pre-processing on data in TEXT column...\n",
      "Wait...\n",
      "======================================================================\n",
      ">>> Original data example      :  Saurav Kant, an alumnus of upGrad and IIIT-B's PG Program in Machine learning and Artificial Intelligence, was a Sr Systems Engineer at Infosys with almost 5 years of work experience. The program and upGrad's 360-degree career support helped him transition to a Data Scientist at Tech Mahindra with 90% salary hike. upGrad's Online Power Learning has powered 3 lakh+ careers.\n",
      ">>> Pre-processed data example :  saurav kant alumnus upgrad iiit pg program machine learning artificial intelligence sr systems engineer infosys almost years work experience program upgrad degree career support helped transition data scientist tech mahindra salary hike upgrad online power learning powered lakh careers\n",
      "======================================================================\n",
      ">>> Pre-processing on data in TEXT column of  98360  samples successfly finished!\n"
     ]
    }
   ],
   "source": [
    "# pre-process on data in TEXT column (including removing stopwords)\n",
    "\n",
    "# save original data as example to check the operation of pre-processing method\n",
    "original_text = data[\"text\"][0]\n",
    "\n",
    "# indicate processing state\n",
    "print(\"Pre-processing on data in TEXT column...\")\n",
    "print(\"Wait...\")\n",
    "\n",
    "# perform pre-process on data in TEXT column\n",
    "data[\"text\"] = data[\"text\"].apply(lambda x: preprocess_sentence(x, remove_stopwords = True))\n",
    "\n",
    "# save pre-processed data as example to check the operation of pro-processing method\n",
    "preprocessed_text = data[\"text\"][0]\n",
    "\n",
    "# print pre-processing result\n",
    "print_divider()\n",
    "print(\">>> Original data example      : \", original_text)\n",
    "print(\">>> Pre-processed data example : \", preprocessed_text)\n",
    "print_divider()\n",
    "print(\">>> Pre-processing on data in TEXT column of \", len(data), \" samples successfly finished!\")"
   ]
  },
  {
   "cell_type": "markdown",
   "id": "40a58de6",
   "metadata": {},
   "source": [
    "2. Pre-process on data in **HEADLINES** column"
   ]
  },
  {
   "cell_type": "code",
   "execution_count": 10,
   "id": "ca4179b0",
   "metadata": {},
   "outputs": [
    {
     "name": "stdout",
     "output_type": "stream",
     "text": [
      "Pre-processing on data in HEADLINES column...\n",
      "Wait...\n",
      "======================================================================\n",
      ">>> Original data example      :  upGrad learner switches to career in ML & Al with 90% salary hike\n",
      ">>> Pre-processed data example :  upgrad learner switches to career in ml al with salary hike\n",
      "======================================================================\n",
      ">>> Pre-processing on data in HEADLINES column of  98360  samples successfly finished!\n"
     ]
    }
   ],
   "source": [
    "# pre-process on data in HEADLINES column (including removing stopwords)\n",
    "\n",
    "# save original data as example to check the operation of pre-processing method\n",
    "original_headline = data[\"headlines\"][0]\n",
    "\n",
    "# indicate processing state\n",
    "print(\"Pre-processing on data in HEADLINES column...\")\n",
    "print(\"Wait...\")\n",
    "\n",
    "# perform pre-process on data in HEADLINES column\n",
    "data[\"headlines\"] = data[\"headlines\"].apply(lambda x: preprocess_sentence(x, remove_stopwords = False))\n",
    "\n",
    "# save pre-processed data as example to check the operation of pro-processing method\n",
    "preprocessed_headline = data[\"headlines\"][0]\n",
    "\n",
    "# print pre-processing result\n",
    "print_divider()\n",
    "print(\">>> Original data example      : \", original_headline)\n",
    "print(\">>> Pre-processed data example : \", preprocessed_headline)\n",
    "print_divider()\n",
    "print(\">>> Pre-processing on data in HEADLINES column of \", len(data), \" samples successfly finished!\")"
   ]
  },
  {
   "cell_type": "markdown",
   "id": "a1e82cc8",
   "metadata": {},
   "source": [
    "3. Remove **NULL** data resulted by pre-processing"
   ]
  },
  {
   "cell_type": "code",
   "execution_count": 11,
   "id": "50187efb",
   "metadata": {},
   "outputs": [
    {
     "name": "stdout",
     "output_type": "stream",
     "text": [
      ">>> Total 0 empty pre-processed sample data removed.\n",
      ">>> Total samples :  98360\n"
     ]
    }
   ],
   "source": [
    "# count pre-processed samples\n",
    "preprocessed_sample_cnt = len(data)\n",
    "\n",
    "# convert empty values as NaN\n",
    "data.replace(\"\", np.nan, inplace = True)\n",
    "\n",
    "# count empty(NaN) values in each column\n",
    "data.isnull().sum()\n",
    "\n",
    "# remove data including empty(NaN) values\n",
    "data.dropna(axis=0, inplace=True)\n",
    "filled_sample_cnt = len(data)\n",
    "print(\">>> Total\", preprocessed_sample_cnt - filled_sample_cnt, \"empty pre-processed sample data removed.\")\n",
    "print(\">>> Total samples : \", filled_sample_cnt)"
   ]
  },
  {
   "cell_type": "markdown",
   "id": "58bceddc",
   "metadata": {},
   "source": [
    "### ✏️ Pre-process on dataset 3 : filter over-length data"
   ]
  },
  {
   "cell_type": "markdown",
   "id": "bdabece1",
   "metadata": {},
   "source": [
    "1. Analyze the length of data in **TEXT** column & set *MAX_TEXT_LEN*"
   ]
  },
  {
   "cell_type": "code",
   "execution_count": 12,
   "id": "9fb33852",
   "metadata": {},
   "outputs": [
    {
     "name": "stdout",
     "output_type": "stream",
     "text": [
      "Minimum length of string data in TEXT column      : 1\n",
      "Maximum length of string data in TEXT column      : 60\n",
      "Average length of string data in TEXT column      : 35.09968483123221\n"
     ]
    },
    {
     "data": {
      "image/png": "[encoded data removed]",
      "text/plain": [
       "<Figure size 864x360 with 2 Axes>"
      ]
     },
     "metadata": {
      "needs_background": "light"
     },
     "output_type": "display_data"
    }
   ],
   "source": [
    "# analyze length of string data in TEXT column\n",
    "text_len = [len(s.split()) for s in data[\"text\"]]\n",
    "print(\"Minimum length of string data in TEXT column      : {}\".format(np.min(text_len)))\n",
    "print(\"Maximum length of string data in TEXT column      : {}\".format(np.max(text_len)))\n",
    "print(\"Average length of string data in TEXT column      : {}\".format(np.mean(text_len)))\n",
    "\n",
    "\n",
    "# visualize the TEXT column length analysis result\n",
    "text_fig = plt.figure(figsize = (12, 5))\n",
    "\n",
    "text_subplot1 = text_fig.add_subplot(1, 2, 1)\n",
    "sns.boxplot(data = text_len, color = \"pink\")\n",
    "text_subplot1.set_title(\"length of TEXT column\")\n",
    "\n",
    "text_subplot2 = text_fig.add_subplot(1, 2, 2)\n",
    "sns.histplot(data = text_len, bins = 40, color = \"pink\")\n",
    "text_subplot2.set_title(\"length of TEXT column\")\n",
    "text_subplot2.set_xlabel('length of samples')\n",
    "text_subplot2.set_ylabel('number of samples')\n",
    "\n",
    "plt.show()"
   ]
  },
  {
   "cell_type": "markdown",
   "id": "0c6c34c0",
   "metadata": {},
   "source": [
    "- 기사 본문(\"text\" column)의 길이(단어 갯수) 분석 결과, 최대 38 단어 길이의 데이터만 활용하여도 적합하다고 판단\n",
    "- 상단의 상수 정의 부분 코드에서 *MAX_TEXT_LEN = 38* 로 설정"
   ]
  },
  {
   "cell_type": "markdown",
   "id": "adb6f150",
   "metadata": {},
   "source": [
    "2. Analyze the length of data in **HEADLINES** column & set *MAX_HEADLINES_LEN*"
   ]
  },
  {
   "cell_type": "code",
   "execution_count": 13,
   "id": "d36c218b",
   "metadata": {},
   "outputs": [
    {
     "name": "stdout",
     "output_type": "stream",
     "text": [
      "Minimum length of string data in HEADLINES column : 1\n",
      "Maximum length of string data in HEADLINES column : 16\n",
      "Average length of string data in HEADLINES column : 9.299532330215534\n"
     ]
    },
    {
     "data": {
      "image/png": "[encoded data removed]",
      "text/plain": [
       "<Figure size 864x360 with 2 Axes>"
      ]
     },
     "metadata": {
      "needs_background": "light"
     },
     "output_type": "display_data"
    }
   ],
   "source": [
    "# analyze length of string data in HEADLINES column\n",
    "headlines_len = [len(s.split()) for s in data[\"headlines\"]]\n",
    "print(\"Minimum length of string data in HEADLINES column : {}\".format(np.min(headlines_len)))\n",
    "print(\"Maximum length of string data in HEADLINES column : {}\".format(np.max(headlines_len)))\n",
    "print(\"Average length of string data in HEADLINES column : {}\".format(np.mean(headlines_len)))\n",
    "\n",
    "\n",
    "\n",
    "# visualize the TEXT column length analysis result\n",
    "headlines_fig = plt.figure(figsize = (12, 5))\n",
    "\n",
    "headlines_subplot1 = headlines_fig.add_subplot(1, 2, 1)\n",
    "sns.boxplot(data = headlines_len, color = \"pink\")\n",
    "headlines_subplot1.set_title(\"length of HEADLINES column\")\n",
    "\n",
    "headlines_subplot2 = headlines_fig.add_subplot(1, 2, 2)\n",
    "sns.histplot(data = headlines_len, bins = 40, color = \"pink\")\n",
    "headlines_subplot2.set_title(\"length of HEADLINES column\")\n",
    "headlines_subplot2.set_xlabel('length of samples')\n",
    "headlines_subplot2.set_ylabel('number of samples')\n",
    "\n",
    "plt.show()"
   ]
  },
  {
   "cell_type": "markdown",
   "id": "09a32275",
   "metadata": {},
   "source": [
    "- 기사 본문(\"headlines\" column)의 길이(단어 갯수) 분석 결과, 최대 8 단어 길이의 데이터만 활용하여도 적합하다고 판단\n",
    "- 상단의 상수 정의 부분 코드에서 *MAX_HEADLINES_LEN = 8* 으로 설정"
   ]
  },
  {
   "cell_type": "markdown",
   "id": "8b46852a",
   "metadata": {},
   "source": [
    "3. Verify proper values of *MAX_TEXT_LEN* and *MAX_HEADLINES_LEN*"
   ]
  },
  {
   "cell_type": "code",
   "execution_count": 14,
   "id": "5157d317",
   "metadata": {},
   "outputs": [],
   "source": [
    "# define method to count over-length samples throughout total samples\n",
    "def below_threshold_len(max_len, nested_list):\n",
    "  cnt = 0\n",
    "  for s in nested_list:\n",
    "    if(len(s.split()) <= max_len):\n",
    "        cnt = cnt + 1\n",
    "  print(\">>> Percentage of samples which length is under %s : %s\"%(max_len, (cnt / len(nested_list))))"
   ]
  },
  {
   "cell_type": "code",
   "execution_count": 15,
   "id": "03499e8d",
   "metadata": {},
   "outputs": [
    {
     "name": "stdout",
     "output_type": "stream",
     "text": [
      "Checking data length in TEXT column...\n",
      ">>> Percentage of samples which length is under 38 : 0.8163379422529483\n",
      "======================================================================\n",
      "Checking data length in HEADLINES column...\n",
      ">>> Percentage of samples which length is under 8 : 0.2755693371289142\n"
     ]
    }
   ],
   "source": [
    "# check TEXT data which length is under 38 to verify MAX_TEXT_LEN value is proper or not\n",
    "print(\"Checking data length in TEXT column...\")\n",
    "below_threshold_len(MAX_TEXT_LEN, data[\"text\"])\n",
    "\n",
    "print_divider()\n",
    "\n",
    "# check HEADLINES data which length is under 8 to verify MAX_HEADLINES_LEN value is proper or not)\n",
    "print(\"Checking data length in HEADLINES column...\")\n",
    "below_threshold_len(MAX_HEADLINES_LEN,  data[\"headlines\"])"
   ]
  },
  {
   "cell_type": "markdown",
   "id": "69e283ee",
   "metadata": {},
   "source": [
    "- \"text\" 내용의 길이가 MAX_TEXT_LEN = 38 이하인 데이터가 약 81.6% 이므로 적절한 값으로 판단!\n",
    "- \"headlines\" 내용의 길이가 MAX_HEADLINES_LEN =8 이하인 데이터가 약 89.3% 이므로 적잘한 값으로 판단!"
   ]
  },
  {
   "cell_type": "markdown",
   "id": "5fa5fe79",
   "metadata": {},
   "source": [
    "4. Filter over-length data (exclude samples with over-length data)"
   ]
  },
  {
   "cell_type": "code",
   "execution_count": 16,
   "id": "02b979da",
   "metadata": {},
   "outputs": [
    {
     "name": "stdout",
     "output_type": "stream",
     "text": [
      ">>> Total 76156 over-length sample data removed.\n",
      ">>> Total samples :  22204\n"
     ]
    }
   ],
   "source": [
    "# count pre-processed samples\n",
    "total_sample_cnt = len(data)\n",
    "\n",
    "# exclude over-length sampels\n",
    "data = data[data[\"text\"].apply(lambda x: len(x.split()) <= MAX_TEXT_LEN)]\n",
    "data = data[data[\"headlines\"].apply(lambda x: len(x.split()) <= MAX_HEADLINES_LEN)]\n",
    "short_sample_cnt = len(data)\n",
    "print(\">>> Total\", total_sample_cnt - short_sample_cnt, \"over-length sample data removed.\")\n",
    "print(\">>> Total samples : \", short_sample_cnt)"
   ]
  },
  {
   "cell_type": "markdown",
   "id": "47c29561",
   "metadata": {},
   "source": [
    "### ✏️ Pre-processing 4 : Add **\"SOS\"** and **\"EOS\"** tokens"
   ]
  },
  {
   "cell_type": "markdown",
   "id": "c6e6dd07",
   "metadata": {},
   "source": [
    "1. Generate two new columns to mark each of SOS and EOS tokens"
   ]
  },
  {
   "cell_type": "code",
   "execution_count": 17,
   "id": "5ce65b74",
   "metadata": {},
   "outputs": [
    {
     "name": "stdout",
     "output_type": "stream",
     "text": [
      "New columns generated : decoder_input, decoder_target\n",
      "======================================================================\n",
      "(22204, 4)\n",
      "Index(['headlines', 'text', 'decoder_input', 'decoder_target'], dtype='object')\n",
      "======================================================================\n",
      "                                               headlines  \\\n",
      "23603  samsung quarterly revenue dips amid slow smart...   \n",
      "59104          formula one unveils new fan inspired logo   \n",
      "60692  un urges myanmar to give citizenship to rohingyas   \n",
      "4701   no politician can match vajpayee popularity ni...   \n",
      "83373  terrorists explained terrorism to the world pm...   \n",
      "18894  duterte calls hitler insane at israel holocaus...   \n",
      "93332  charged with terrorism over pakistani student ...   \n",
      "25996  poisonous snakes found in maharashtra school k...   \n",
      "41320  militants gunned down in two encounters in kas...   \n",
      "82059       around people lose to atm fraud in bengaluru   \n",
      "\n",
      "                                                    text  \\\n",
      "23603  samsung electronics posted revenue billion apr...   \n",
      "59104  formula one unveiled new logo season ending ra...   \n",
      "60692  un human rights committee approved resolution ...   \n",
      "4701   paying tribute late prime minister atal bihari...   \n",
      "83373  prime minister narendra modi sunday said world...   \n",
      "18894  philippine president rodrigo duterte called ad...   \n",
      "93332  eight pakistanis involved mob lynching fellow ...   \n",
      "25996  many sixty poisonous russell viper snakes foun...   \n",
      "41320  total eight militants killed two separate enco...   \n",
      "82059  within week nearly people lost lakh illegal wi...   \n",
      "\n",
      "                                           decoder_input  \\\n",
      "23603  sostoken samsung quarterly revenue dips amid s...   \n",
      "59104  sostoken formula one unveils new fan inspired ...   \n",
      "60692  sostoken un urges myanmar to give citizenship ...   \n",
      "4701   sostoken no politician can match vajpayee popu...   \n",
      "83373  sostoken terrorists explained terrorism to the...   \n",
      "18894  sostoken duterte calls hitler insane at israel...   \n",
      "93332  sostoken charged with terrorism over pakistani...   \n",
      "25996  sostoken poisonous snakes found in maharashtra...   \n",
      "41320  sostoken militants gunned down in two encounte...   \n",
      "82059  sostoken around people lose to atm fraud in be...   \n",
      "\n",
      "                                          decoder_target  \n",
      "23603  samsung quarterly revenue dips amid slow smart...  \n",
      "59104  formula one unveils new fan inspired logo eost...  \n",
      "60692  un urges myanmar to give citizenship to rohing...  \n",
      "4701   no politician can match vajpayee popularity ni...  \n",
      "83373  terrorists explained terrorism to the world pm...  \n",
      "18894  duterte calls hitler insane at israel holocaus...  \n",
      "93332  charged with terrorism over pakistani student ...  \n",
      "25996  poisonous snakes found in maharashtra school k...  \n",
      "41320  militants gunned down in two encounters in kas...  \n",
      "82059  around people lose to atm fraud in bengaluru e...  \n"
     ]
    }
   ],
   "source": [
    "# create new column to add SOS (start of sentence) token in front of \"headlines\" data\n",
    "data[\"decoder_input\"] = data[\"headlines\"].apply(lambda x : \"sostoken \" + x)\n",
    "\n",
    "# create new column to add EOS (end of sentence) token in the end of \"headlines\" data\n",
    "data[\"decoder_target\"] = data[\"headlines\"].apply(lambda x : x + \" eostoken\")\n",
    "\n",
    "\n",
    "# print results\n",
    "print(\"New columns generated : decoder_input, decoder_target\")\n",
    "print_divider()\n",
    "print(data.shape)         # total 72997 samples with 4 columns\n",
    "print(data.columns)       # total 4 columns : \"text\", \"headlines\", \"decoder_input\", \"decoder_target\"\n",
    "print_divider()\n",
    "print(data.sample(10))    # pick random 10 samples"
   ]
  },
  {
   "cell_type": "markdown",
   "id": "fc94fc0b",
   "metadata": {},
   "source": [
    "2. Assign each column to input variables to use in DL model"
   ]
  },
  {
   "cell_type": "code",
   "execution_count": 18,
   "id": "034dae5c",
   "metadata": {},
   "outputs": [],
   "source": [
    "encoder_input = np.array(data[\"text\"])            # input of encoder\n",
    "decoder_input = np.array(data[\"decoder_input\"])   # input of decoder\n",
    "decoder_target = np.array(data[\"decoder_target\"]) # label of decoder"
   ]
  },
  {
   "cell_type": "markdown",
   "id": "979286d7",
   "metadata": {},
   "source": [
    "### ✏️ Pre-processing 5 : split training & validation & test data"
   ]
  },
  {
   "cell_type": "markdown",
   "id": "37aeb18f",
   "metadata": {},
   "source": [
    "1. Shuffle indices of datasets"
   ]
  },
  {
   "cell_type": "code",
   "execution_count": 19,
   "id": "37ee5cb1",
   "metadata": {},
   "outputs": [],
   "source": [
    "# shuffle indices order\n",
    "indices = np.arange(encoder_input.shape[0])    # generate array with indices of datasets\n",
    "np.random.shuffle(indices)                     # shuffle the indices order\n",
    "\n",
    "\n",
    "# assign shuffled data to input variables of DL model\n",
    "encoder_input = encoder_input[indices]\n",
    "decoder_input = decoder_input[indices]\n",
    "decoder_target = decoder_target[indices]"
   ]
  },
  {
   "cell_type": "markdown",
   "id": "571ffd9f",
   "metadata": {},
   "source": [
    "2. Split datasets into training data & test data"
   ]
  },
  {
   "cell_type": "code",
   "execution_count": 20,
   "id": "8baeaab2",
   "metadata": {},
   "outputs": [
    {
     "name": "stdout",
     "output_type": "stream",
     "text": [
      "Dataset split is finished!\n",
      ">>> The number of training data samples :  17764\n",
      ">>> The number of teset data samples    :  4440\n"
     ]
    }
   ],
   "source": [
    "# set split ratio\n",
    "n_of_val = int(len(encoder_input)*0.2)\n",
    "\n",
    "\n",
    "# split encoder input data\n",
    "encoder_input_train = encoder_input[:-n_of_val]\n",
    "encoder_input_test = encoder_input[-n_of_val:]\n",
    "\n",
    "# split decoder input data\n",
    "decoder_input_train = decoder_input[:-n_of_val]\n",
    "decoder_input_test = decoder_input[-n_of_val:]\n",
    "\n",
    "# split decoder target data\n",
    "decoder_target_train = decoder_target[:-n_of_val]\n",
    "decoder_target_test = decoder_target[-n_of_val:]\n",
    "\n",
    "\n",
    "print(\"Dataset split is finished!\")\n",
    "print(\">>> The number of training data samples : \", len(encoder_input_train))\n",
    "print(\">>> The number of teset data samples    : \", len(encoder_input_test))"
   ]
  },
  {
   "cell_type": "markdown",
   "id": "d7144df1",
   "metadata": {},
   "source": [
    "### ✏️ Pre-process on dataset 6 : encoding (word <-> index coverting)"
   ]
  },
  {
   "cell_type": "markdown",
   "id": "b75bc962",
   "metadata": {},
   "source": [
    "1. Analysis the usage of vocabularies and their frequency in **TEXT**(source) data"
   ]
  },
  {
   "cell_type": "code",
   "execution_count": 21,
   "id": "3c1f6dc7",
   "metadata": {},
   "outputs": [],
   "source": [
    "# generate tokenizer for source data (\"text\" column data)\n",
    "src_tokenizer = Tokenizer()\n",
    "\n",
    "# generate vocabulary collection from source data\n",
    "src_tokenizer.fit_on_texts(encoder_input_train)"
   ]
  },
  {
   "cell_type": "code",
   "execution_count": 22,
   "id": "60eb7b6e",
   "metadata": {},
   "outputs": [
    {
     "name": "stdout",
     "output_type": "stream",
     "text": [
      ">>> Total size(count) of vocabularies from TEXT column       :  37755\n",
      ">>> Total count of rare vocabularies used less than 6 times  :  26476\n",
      ">>> Total size(count) of frequently used vocabularies        :  11279\n",
      ">>> Percentage of rare vocabularies throughout whole ones    :  70.12581115084095\n",
      ">>> Frequency of rare vocabularies use din whole TEXT data   :  8.280811771923146\n"
     ]
    }
   ],
   "source": [
    "# count how many kinds of vocabularies used & how often used\n",
    "# count total words & how much rare vocabulary used\n",
    "total_cnt = len(src_tokenizer.word_index)    # how many kinds of vocabularies\n",
    "rare_cnt = 0                                 # vocabularies barely used (less than SRC_MIN_FREQUENCY)\n",
    "total_freq = 0                               # total words\n",
    "rare_freq = 0                                # total rare words (used less than SRC_MIN_FREQUENCY)\n",
    "\n",
    "for key, value in src_tokenizer.word_counts.items():\n",
    "    # key = vocabulary, value = frequency (how many times used)\n",
    "    \n",
    "    total_freq = total_freq + value\n",
    "\n",
    "    # count barely used vocabularies (less than SRC_MIN_FREQUENCY)\n",
    "    if(value < SRC_MIN_FREQUENCY):\n",
    "        rare_cnt = rare_cnt + 1\n",
    "        rare_freq = rare_freq + value\n",
    "\n",
    "        \n",
    "        \n",
    "# print analysis result\n",
    "print(\">>> Total size(count) of vocabularies from TEXT column       : \", total_cnt)\n",
    "print(\">>> Total count of rare vocabularies used less than %s times  :  %s\"%(SRC_MIN_FREQUENCY, rare_cnt))\n",
    "print(\">>> Total size(count) of frequently used vocabularies        :  %s\"%(total_cnt - rare_cnt))\n",
    "print(\">>> Percentage of rare vocabularies throughout whole ones    : \", (rare_cnt / total_cnt) * 100)\n",
    "print(\">>> Frequency of rare vocabularies use din whole TEXT data   : \", (rare_freq / total_freq) * 100)"
   ]
  },
  {
   "cell_type": "markdown",
   "id": "3e9dce6b",
   "metadata": {},
   "source": [
    "- \"text\" column 데이터에서 6번 이상 사용된 단어들만 학습에 사용할 경우,  \n",
    "  총 20268가지의 단어를 사용하게 되며 데이터의 약 3.68%를 차지하는 단어들이 배제될 것이다.   \n",
    "  3.68%의 비율은 학습 데이터에서 배제되어도 충분히 적은 양이므로, \"6번 이상\" 사용된 단어들을 기준으로 학습을 진행하도록 한다.\n",
    "- 6번 이상 사용된 단어들은 20268가지가 있으므로, 인코딩할 단어의 가짓수는 *SRC_VOCAB_SIZE = 20000* 으로 설정하도록 한다."
   ]
  },
  {
   "cell_type": "markdown",
   "id": "725aa40e",
   "metadata": {},
   "source": [
    "2. Set vocabulary size and generate word <-> index dictionary for **TEXT**(source) data  \n",
    "   Convert string data into interger-encoded data"
   ]
  },
  {
   "cell_type": "code",
   "execution_count": 23,
   "id": "5036c057",
   "metadata": {},
   "outputs": [
    {
     "name": "stdout",
     "output_type": "stream",
     "text": [
      "Integer-encoding for source text data is finished!\n",
      "Integer-encoding example :  [321, 103, 23, 667, 41, 222, 11280, 17716, 5532, 6008, 248, 5752, 27, 8, 390, 705, 17717, 587, 90, 364, 152, 514, 125, 955, 152, 706, 955, 152, 417, 432, 8, 367, 99, 4742, 166]\n"
     ]
    }
   ],
   "source": [
    "# re-generate tokenizer for source data (\"text\" column data)\n",
    "# total number of vocabularies are limited as SRC_VOCAB_SIZE = 20000\n",
    "src_tokenizer = Tokenizer(num_words = SRC_VOCAB_SIZE)\n",
    "\n",
    "# generate vocabulary collection from source data\n",
    "src_tokenizer.fit_on_texts(encoder_input_train)\n",
    "\n",
    "# convert string data in \"text\" columns into interger-encoded data\n",
    "encoder_input_train = src_tokenizer.texts_to_sequences(encoder_input_train) \n",
    "encoder_input_test = src_tokenizer.texts_to_sequences(encoder_input_test)\n",
    "\n",
    "\n",
    "print(\"Integer-encoding for source text data is finished!\")\n",
    "print(\"Integer-encoding example : \", encoder_input_train[0])"
   ]
  },
  {
   "cell_type": "markdown",
   "id": "9a4555b6",
   "metadata": {},
   "source": [
    "3. Analysis the usage of vocabularies and their frequency in **HEADLINES**(target) data"
   ]
  },
  {
   "cell_type": "code",
   "execution_count": 24,
   "id": "9d83251c",
   "metadata": {},
   "outputs": [],
   "source": [
    "# generate tokenizer for source data (\"headlines\" column data)\n",
    "tar_tokenizer = Tokenizer()\n",
    "\n",
    "# generate vocabulary collection from source data\n",
    "tar_tokenizer.fit_on_texts(decoder_input_train)"
   ]
  },
  {
   "cell_type": "code",
   "execution_count": 25,
   "id": "bafe2529",
   "metadata": {},
   "outputs": [
    {
     "name": "stdout",
     "output_type": "stream",
     "text": [
      ">>> Total size(count) of vocabularies from TEXT column       :  17092\n",
      ">>> Total count of rare vocabularies used less than 3 times  :  10078\n",
      ">>> Total size(count) of frequently used vocabularies        :  7014\n",
      ">>> Percentage of rare vocabularies throughout whole ones    :  58.9632576644044\n",
      ">>> Frequency of rare vocabularies use din whole TEXT data   :  8.323452536144066\n"
     ]
    }
   ],
   "source": [
    "# count how many kinds of vocabularies used & how often used\n",
    "# count total words & how much rare vocabulary used\n",
    "total_cnt = len(tar_tokenizer.word_index)    # how many kinds of vocabularies\n",
    "rare_cnt = 0                                 # vocabularies barely used (less than TAR_MIN_FREQUENCY)\n",
    "total_freq = 0                               # total words\n",
    "rare_freq = 0                                # total rare words (used less than TAR_MIN_FREQUENCY)\n",
    "\n",
    "for key, value in tar_tokenizer.word_counts.items():\n",
    "    # key = vocabulary, value = frequency (how many times used)\n",
    "    \n",
    "    total_freq = total_freq + value\n",
    "\n",
    "    # count barely used vocabularies (less than TAR_MIN_FREQUENCY)\n",
    "    if(value < TAR_MIN_FREQUENCY):\n",
    "        rare_cnt = rare_cnt + 1\n",
    "        rare_freq = rare_freq + value\n",
    "\n",
    "        \n",
    "        \n",
    "# print analysis result\n",
    "print(\">>> Total size(count) of vocabularies from TEXT column       : \", total_cnt)\n",
    "print(\">>> Total count of rare vocabularies used less than %s times  :  %s\"%(TAR_MIN_FREQUENCY, rare_cnt))\n",
    "print(\">>> Total size(count) of frequently used vocabularies        :  %s\"%(total_cnt - rare_cnt))\n",
    "print(\">>> Percentage of rare vocabularies throughout whole ones    : \", (rare_cnt / total_cnt) * 100)\n",
    "print(\">>> Frequency of rare vocabularies use din whole TEXT data   : \", (rare_freq / total_freq) * 100)"
   ]
  },
  {
   "cell_type": "markdown",
   "id": "2c17e36f",
   "metadata": {},
   "source": [
    "- \"headlines\" columns 데이터에서 3번 이상 사용된 단어들만 학습에 사용할 경우,  \n",
    "  총 13221가지의 단어를 사용하게 되며 데이터의 약 3.60%를 차지하는 단어들이 배제될 것이다.   \n",
    "  3.60%의 비율은 학습 데이터에서 배제되어도 충분히 적은 양이므로, \"3번 이상\" 사용된 단어들을 기준으로 학습을 진행하도록 한다.\n",
    "- 3번 이상 사용된 단어들은 13221가지가 있으므로, 인코딩할 단어의 가짓수는 *TAR_VOCAB_SIZE = 13000* 으로 설정하도록 한다."
   ]
  },
  {
   "cell_type": "markdown",
   "id": "02601118",
   "metadata": {},
   "source": [
    "4. Set vocabulary size and generate word <-> index dictionary for **HEADLINES**(target) data  \n",
    "   Convert string data into interger-encoded data"
   ]
  },
  {
   "cell_type": "code",
   "execution_count": 26,
   "id": "d8177e30",
   "metadata": {},
   "outputs": [
    {
     "name": "stdout",
     "output_type": "stream",
     "text": [
      "Integer-encoding for target text data is finished!\n",
      "Integer-encoding example 1 :  [1, 355, 60, 507, 259, 11, 9644, 3155]\n",
      "Integer-encoding example 1 :  [355, 60, 507, 259, 11, 9644, 3155, 2]\n"
     ]
    }
   ],
   "source": [
    "# re-generate tokenizer for source data (\"headlines\" column data)\n",
    "# total number of vocabularies are limited as TAR_VOCAB_SIZE = 13000\n",
    "tar_tokenizer = Tokenizer(num_words = TAR_VOCAB_SIZE)\n",
    "\n",
    "# generate vocabulary collection from source data\n",
    "tar_tokenizer.fit_on_texts(decoder_input_train)\n",
    "tar_tokenizer.fit_on_texts(decoder_target_train)\n",
    "\n",
    "# convert string data in \"headlines\" columns into interger-encoded data\n",
    "decoder_input_train = tar_tokenizer.texts_to_sequences(decoder_input_train) \n",
    "decoder_input_test = tar_tokenizer.texts_to_sequences(decoder_input_test)\n",
    "decoder_target_train = tar_tokenizer.texts_to_sequences(decoder_target_train)\n",
    "decoder_target_test = tar_tokenizer.texts_to_sequences(decoder_target_test)\n",
    "\n",
    "\n",
    "print(\"Integer-encoding for target text data is finished!\")\n",
    "print(\"Integer-encoding example 1 : \", decoder_input_train[0])\n",
    "print(\"Integer-encoding example 1 : \", decoder_target_train[0])"
   ]
  },
  {
   "cell_type": "markdown",
   "id": "0fc6f80b",
   "metadata": {},
   "source": [
    "5. Remove data including only barely used words"
   ]
  },
  {
   "cell_type": "code",
   "execution_count": 27,
   "id": "157881ae",
   "metadata": {},
   "outputs": [
    {
     "name": "stdout",
     "output_type": "stream",
     "text": [
      ">>> Total 0 sample data with rare words removed from training data.\n",
      ">>> Total samples of training data :  17764\n",
      "======================================================================\n",
      ">>> Total 0 sample data with rare words removed from test data.\n",
      ">>> Total samples of test data     :  4439\n"
     ]
    }
   ],
   "source": [
    "# collect indices of samples which data including only barely used words (not interger-encoded)\n",
    "# the length of interger-encoded result might be 1 because of SOS or EOS remains\n",
    "drop_train = [index for index, sentence in enumerate(decoder_input_train) if len(sentence) == 1]\n",
    "drop_test = [index for index, sentence in enumerate(decoder_input_test) if len(sentence) == 1]\n",
    "\n",
    "\n",
    "\n",
    "# remove samples by indices which training data include only barely used words\n",
    "encoder_input_train = [sentence for index, sentence in enumerate(encoder_input_train) if index not in drop_train]\n",
    "decoder_input_train = [sentence for index, sentence in enumerate(decoder_input_train) if index not in drop_train]\n",
    "decoder_target_train = [sentence for index, sentence in enumerate(decoder_target_train) if index not in drop_train]\n",
    "\n",
    "print(\">>> Total\", len(drop_train), \"sample data with rare words removed from training data.\")\n",
    "print(\">>> Total samples of training data : \", len(encoder_input_train))\n",
    "print_divider()\n",
    "\n",
    "\n",
    "\n",
    "# remove samples by indices which test data include only barely used words\n",
    "encoder_input_test = [sentence for index, sentence in enumerate(encoder_input_test) if index not in drop_test]\n",
    "decoder_input_test = [sentence for index, sentence in enumerate(decoder_input_test) if index not in drop_test]\n",
    "decoder_target_test = [sentence for index, sentence in enumerate(decoder_target_test) if index not in drop_test]\n",
    "\n",
    "print(\">>> Total\", len(drop_train), \"sample data with rare words removed from test data.\")\n",
    "print(\">>> Total samples of test data     : \", len(encoder_input_test))"
   ]
  },
  {
   "cell_type": "markdown",
   "id": "98b5e6b6",
   "metadata": {},
   "source": [
    "### ✏️ Pre-process on dataset 7 : padding (unify data length)"
   ]
  },
  {
   "cell_type": "code",
   "execution_count": 28,
   "id": "7cd32c1b",
   "metadata": {},
   "outputs": [
    {
     "name": "stdout",
     "output_type": "stream",
     "text": [
      "Padding of interger-encoded data is finished!\n",
      "Integer-encoding example : \n",
      "\t [   1  355   60  507  259   11 9644 3155]\n",
      "\t [3535 2543  489  490 2135 1127 1970 3156]\n",
      "\t [7016 1066    3  195 2136 4055 1250  177]\n",
      "\t [   1  130    6 1399  683   83 3157   53]\n",
      "\t [2544   30 3536    5 2545 1067  461   34]\n"
     ]
    }
   ],
   "source": [
    "# padding training data\n",
    "encoder_input_train = pad_sequences(encoder_input_train, maxlen = MAX_TEXT_LEN, padding = \"post\")\n",
    "decoder_input_train = pad_sequences(decoder_input_train, maxlen = MAX_HEADLINES_LEN, padding = \"post\")\n",
    "decoder_target_train = pad_sequences(decoder_target_train, maxlen = MAX_HEADLINES_LEN, padding = \"post\")\n",
    "\n",
    "\n",
    "# padding test data\n",
    "encoder_input_test = pad_sequences(encoder_input_test, maxlen = MAX_TEXT_LEN, padding = \"post\")\n",
    "decoder_input_test = pad_sequences(decoder_input_test, maxlen = MAX_HEADLINES_LEN, padding = \"post\")\n",
    "decoder_target_test = pad_sequences(decoder_target_test, maxlen = MAX_HEADLINES_LEN, padding = \"post\")\n",
    "\n",
    "\n",
    "print(\"Padding of interger-encoded data is finished!\")\n",
    "print(\"Integer-encoding example : \")\n",
    "for i in range(5):\n",
    "    print(\"\\t\", decoder_input_train[i])"
   ]
  },
  {
   "cell_type": "markdown",
   "id": "e67e478f",
   "metadata": {},
   "source": [
    "---"
   ]
  },
  {
   "cell_type": "markdown",
   "id": "48d3cab9",
   "metadata": {},
   "source": [
    "### ✏️ Build seq2seq learning model with attention mechanism for training"
   ]
  },
  {
   "cell_type": "markdown",
   "id": "464cf91f",
   "metadata": {},
   "source": [
    "1. Define layer structure **ENCODER** structure"
   ]
  },
  {
   "cell_type": "code",
   "execution_count": 29,
   "id": "bbbf7f2a",
   "metadata": {},
   "outputs": [],
   "source": [
    "# set ENCODER input shape\n",
    "encoder_inputs = Input(shape = (MAX_TEXT_LEN,))\n",
    "\n",
    "# define embedding layer of ENCODER\n",
    "enc_emb = Embedding(SRC_VOCAB_SIZE, EMBEDDING_DIM)(encoder_inputs)\n",
    "\n",
    "# LSTM layer 1 of ENCODER\n",
    "encoder_lstm1 = LSTM(HIDDEN_SIZE, return_sequences = True, return_state = True, dropout = 0.4)\n",
    "encoder_output1, state_h1, state_c1 = encoder_lstm1(enc_emb)\n",
    "\n",
    "# LSTM layer 2 of ENCODER\n",
    "encoder_lstm2 = LSTM(HIDDEN_SIZE, return_sequences = True, return_state = True, dropout = 0.4)\n",
    "encoder_output2, state_h2, state_c2 = encoder_lstm2(encoder_output1)\n",
    "\n",
    "# LSTM layer 3 of ENCODER\n",
    "encoder_lstm3 = LSTM(HIDDEN_SIZE, return_sequences = True, return_state = True, dropout = 0.4)\n",
    "encoder_output3, state_h3, state_c3 = encoder_lstm3(encoder_output2)"
   ]
  },
  {
   "cell_type": "markdown",
   "id": "5d8db6cb",
   "metadata": {},
   "source": [
    "2. Define layer structure **DECODER** with attention mechanism"
   ]
  },
  {
   "cell_type": "code",
   "execution_count": 30,
   "id": "9eb2c1d2",
   "metadata": {},
   "outputs": [],
   "source": [
    "# set DECODER input shape\n",
    "decoder_inputs = Input(shape=(None,))\n",
    "\n",
    "# define embedding layer of DECODER\n",
    "dec_emb_layer = Embedding(TAR_VOCAB_SIZE, EMBEDDING_DIM)\n",
    "dec_emb = dec_emb_layer(decoder_inputs)\n",
    "\n",
    "# LSTM layer of DECODER\n",
    "decoder_lstm = LSTM(HIDDEN_SIZE, return_sequences = True, return_state = True, dropout = 0.4)\n",
    "decoder_outputs, _, _ = decoder_lstm(dec_emb, initial_state=[state_h3, state_c3])"
   ]
  },
  {
   "cell_type": "code",
   "execution_count": 31,
   "id": "d6121c3f",
   "metadata": {},
   "outputs": [],
   "source": [
    "# 디코더의 출력층\n",
    "#decoder_softmax_layer = Dense(TAR_VOCAB_SIZE, activation = \"softmax\")\n",
    "#decoder_softmax_outputs = decoder_softmax_layer(decoder_outputs) \n",
    "\n",
    "# 모델 정의\n",
    "#model = Model([encoder_inputs, decoder_inputs], decoder_softmax_outputs)\n",
    "#model.summary()"
   ]
  },
  {
   "cell_type": "code",
   "execution_count": 32,
   "id": "e4dc3466",
   "metadata": {},
   "outputs": [],
   "source": [
    "# define attention layer of DECODER\n",
    "attn_layer = AdditiveAttention(name = \"attention_layer\")\n",
    "attn_out = attn_layer([decoder_outputs, encoder_output3])    # transfer all hidden states at every time step and get results\n",
    "\n",
    "# connect resulting values of the attention layer and hidden states values of DECODER\n",
    "decoder_concat_input = Concatenate(axis = -1, name = \"concat_layer\")([decoder_outputs, attn_out])\n",
    "\n",
    "# define output layer of DECODER\n",
    "decoder_softmax_layer = Dense(TAR_VOCAB_SIZE, activation = \"softmax\")\n",
    "decoder_softmax_outputs = decoder_softmax_layer(decoder_concat_input)"
   ]
  },
  {
   "cell_type": "markdown",
   "id": "bb773b56",
   "metadata": {},
   "source": [
    "3. Build seq2seq learning model"
   ]
  },
  {
   "cell_type": "code",
   "execution_count": 33,
   "id": "fd45a70a",
   "metadata": {},
   "outputs": [
    {
     "name": "stdout",
     "output_type": "stream",
     "text": [
      "My seq2seq model with attention mechanism for training successfully built!\n",
      "Model: \"model\"\n",
      "__________________________________________________________________________________________________\n",
      "Layer (type)                    Output Shape         Param #     Connected to                     \n",
      "==================================================================================================\n",
      "input_1 (InputLayer)            [(None, 38)]         0                                            \n",
      "__________________________________________________________________________________________________\n",
      "embedding (Embedding)           (None, 38, 128)      2560000     input_1[0][0]                    \n",
      "__________________________________________________________________________________________________\n",
      "lstm (LSTM)                     [(None, 38, 256), (N 394240      embedding[0][0]                  \n",
      "__________________________________________________________________________________________________\n",
      "input_2 (InputLayer)            [(None, None)]       0                                            \n",
      "__________________________________________________________________________________________________\n",
      "lstm_1 (LSTM)                   [(None, 38, 256), (N 525312      lstm[0][0]                       \n",
      "__________________________________________________________________________________________________\n",
      "embedding_1 (Embedding)         (None, None, 128)    1664000     input_2[0][0]                    \n",
      "__________________________________________________________________________________________________\n",
      "lstm_2 (LSTM)                   [(None, 38, 256), (N 525312      lstm_1[0][0]                     \n",
      "__________________________________________________________________________________________________\n",
      "lstm_3 (LSTM)                   [(None, None, 256),  394240      embedding_1[0][0]                \n",
      "                                                                 lstm_2[0][1]                     \n",
      "                                                                 lstm_2[0][2]                     \n",
      "__________________________________________________________________________________________________\n",
      "attention_layer (AdditiveAttent (None, None, 256)    256         lstm_3[0][0]                     \n",
      "                                                                 lstm_2[0][0]                     \n",
      "__________________________________________________________________________________________________\n",
      "concat_layer (Concatenate)      (None, None, 512)    0           lstm_3[0][0]                     \n",
      "                                                                 attention_layer[0][0]            \n",
      "__________________________________________________________________________________________________\n",
      "dense (Dense)                   (None, None, 13000)  6669000     concat_layer[0][0]               \n",
      "==================================================================================================\n",
      "Total params: 12,732,360\n",
      "Trainable params: 12,732,360\n",
      "Non-trainable params: 0\n",
      "__________________________________________________________________________________________________\n",
      "None\n"
     ]
    }
   ],
   "source": [
    "model = Model([encoder_inputs, decoder_inputs], decoder_softmax_outputs)\n",
    "print(\"My seq2seq model with attention mechanism for training successfully built!\")\n",
    "print(model.summary())"
   ]
  },
  {
   "cell_type": "markdown",
   "id": "df3a1cd8",
   "metadata": {},
   "source": [
    "### ✏️ Perform training with seq2seq model"
   ]
  },
  {
   "cell_type": "markdown",
   "id": "3bc18312",
   "metadata": {},
   "source": [
    "1. Perform training with seq2seq model"
   ]
  },
  {
   "cell_type": "code",
   "execution_count": 34,
   "id": "dc154758",
   "metadata": {},
   "outputs": [
    {
     "name": "stdout",
     "output_type": "stream",
     "text": [
      "Epoch 1/50\n",
      "70/70 [==============================] - 13s 92ms/step - loss: 7.2815 - val_loss: 6.7234\n",
      "Epoch 2/50\n",
      "70/70 [==============================] - 5s 75ms/step - loss: 6.8256 - val_loss: 6.4786\n",
      "Epoch 3/50\n",
      "70/70 [==============================] - 5s 75ms/step - loss: 6.5779 - val_loss: 6.3571\n",
      "Epoch 4/50\n",
      "70/70 [==============================] - 5s 76ms/step - loss: 6.4187 - val_loss: 6.2238\n",
      "Epoch 5/50\n",
      "70/70 [==============================] - 5s 77ms/step - loss: 6.2675 - val_loss: 6.1349\n",
      "Epoch 6/50\n",
      "70/70 [==============================] - 5s 77ms/step - loss: 6.1192 - val_loss: 6.0696\n",
      "Epoch 7/50\n",
      "70/70 [==============================] - 5s 77ms/step - loss: 5.9703 - val_loss: 5.9964\n",
      "Epoch 8/50\n",
      "70/70 [==============================] - 5s 78ms/step - loss: 5.8136 - val_loss: 5.9324\n",
      "Epoch 9/50\n",
      "70/70 [==============================] - 5s 78ms/step - loss: 5.6638 - val_loss: 5.8626\n",
      "Epoch 10/50\n",
      "70/70 [==============================] - 5s 78ms/step - loss: 5.4999 - val_loss: 5.8057\n",
      "Epoch 11/50\n",
      "70/70 [==============================] - 6s 79ms/step - loss: 5.3396 - val_loss: 5.7673\n",
      "Epoch 12/50\n",
      "70/70 [==============================] - 6s 79ms/step - loss: 5.1839 - val_loss: 5.7139\n",
      "Epoch 13/50\n",
      "70/70 [==============================] - 6s 80ms/step - loss: 5.0291 - val_loss: 5.6866\n",
      "Epoch 14/50\n",
      "70/70 [==============================] - 6s 80ms/step - loss: 4.8861 - val_loss: 5.6474\n",
      "Epoch 15/50\n",
      "70/70 [==============================] - 6s 81ms/step - loss: 4.7417 - val_loss: 5.6238\n",
      "Epoch 16/50\n",
      "70/70 [==============================] - 6s 81ms/step - loss: 4.5989 - val_loss: 5.6052\n",
      "Epoch 17/50\n",
      "70/70 [==============================] - 6s 82ms/step - loss: 4.4655 - val_loss: 5.6251\n",
      "Epoch 18/50\n",
      "70/70 [==============================] - 6s 83ms/step - loss: 4.3331 - val_loss: 5.5928\n",
      "Epoch 19/50\n",
      "70/70 [==============================] - 6s 83ms/step - loss: 4.2022 - val_loss: 5.5869\n",
      "Epoch 20/50\n",
      "70/70 [==============================] - 6s 84ms/step - loss: 4.0799 - val_loss: 5.5818\n",
      "Epoch 21/50\n",
      "70/70 [==============================] - 6s 84ms/step - loss: 3.9549 - val_loss: 5.5899\n",
      "Epoch 22/50\n",
      "70/70 [==============================] - 6s 84ms/step - loss: 3.8344 - val_loss: 5.5872\n",
      "Epoch 00022: early stopping\n",
      ">>> Model training is sucessfully finished!\n"
     ]
    }
   ],
   "source": [
    "model.compile(optimizer = \"rmsprop\", loss = \"sparse_categorical_crossentropy\")\n",
    "es = EarlyStopping(monitor = \"val_loss\", patience = ES_PATIENCE, verbose = 1)\n",
    "history = model.fit(x = [encoder_input_train, decoder_input_train], \\\n",
    "                    y = decoder_target_train, \\\n",
    "                    validation_data = ([encoder_input_test, decoder_input_test], decoder_target_test), \\\n",
    "                    batch_size = BATCH_SIZE,\n",
    "                    callbacks = [es],\n",
    "                    epochs = EPOCHS)\n",
    "\n",
    "print(\">>> Model training is sucessfully finished!\")"
   ]
  },
  {
   "cell_type": "markdown",
   "id": "20ab78f1",
   "metadata": {},
   "source": [
    "2. Visualize training process"
   ]
  },
  {
   "cell_type": "code",
   "execution_count": 35,
   "id": "e78a83f2",
   "metadata": {},
   "outputs": [
    {
     "data": {
      "image/png": "[encoded data removed]",
      "text/plain": [
       "<Figure size 360x360 with 1 Axes>"
      ]
     },
     "metadata": {
      "needs_background": "light"
     },
     "output_type": "display_data"
    },
    {
     "name": "stdout",
     "output_type": "stream",
     "text": [
      ">>> Minimum loss during training   :  3.8343582153320312\n",
      ">>> Final loss during training     :  3.8343582153320312\n",
      ">>> Minimum loss during validation :  5.581840515136719\n",
      ">>> Final loss during valication   :  5.587233543395996\n"
     ]
    }
   ],
   "source": [
    "training_loss_fig = plt.figure(figsize = (5, 5))\n",
    "\n",
    "plt.plot(history.history[\"loss\"], label = \"training\", color = \"pink\")\n",
    "plt.plot(history.history[\"val_loss\"], label = \"test\", color = \"magenta\")\n",
    "\n",
    "plt.legend()\n",
    "plt.grid()\n",
    "\n",
    "plt.show()\n",
    "\n",
    "print(\">>> Minimum loss during training   : \", min(history.history[\"loss\"]))\n",
    "print(\">>> Final loss during training     : \", history.history[\"loss\"][-1])\n",
    "print(\">>> Minimum loss during validation : \", min(history.history[\"val_loss\"]))\n",
    "print(\">>> Final loss during valication   : \", history.history[\"val_loss\"][-1])"
   ]
  },
  {
   "cell_type": "markdown",
   "id": "f733b1d9",
   "metadata": {},
   "source": [
    "### ✏️ Implement inference model"
   ]
  },
  {
   "cell_type": "markdown",
   "id": "4e9acd6b",
   "metadata": {},
   "source": [
    "1. Get dictionary of string word <-> integer encoding indcides"
   ]
  },
  {
   "cell_type": "code",
   "execution_count": 36,
   "id": "9987f664",
   "metadata": {},
   "outputs": [],
   "source": [
    "# dictionary of (integer -> word) from source data (\"text\" column)\n",
    "src_index_to_word = src_tokenizer.index_word\n",
    "\n",
    "# dictionary of (word -> integer) from target data (\"headlines\" column)\n",
    "tar_word_to_index = tar_tokenizer.word_index\n",
    "\n",
    "# dictionary of (integer -> word) from target data (\"headlines\" column)\n",
    "tar_index_to_word = tar_tokenizer.index_word"
   ]
  },
  {
   "cell_type": "markdown",
   "id": "05992a01",
   "metadata": {},
   "source": [
    "2. Build seq2seq model with attention mechanism for inference (different from training model)"
   ]
  },
  {
   "cell_type": "code",
   "execution_count": 37,
   "id": "798a64db",
   "metadata": {},
   "outputs": [
    {
     "name": "stdout",
     "output_type": "stream",
     "text": [
      "My seq2seq model with attention mechanism for inference successfully built!\n",
      "Model: \"model_2\"\n",
      "__________________________________________________________________________________________________\n",
      "Layer (type)                    Output Shape         Param #     Connected to                     \n",
      "==================================================================================================\n",
      "input_2 (InputLayer)            [(None, None)]       0                                            \n",
      "__________________________________________________________________________________________________\n",
      "embedding_1 (Embedding)         (None, None, 128)    1664000     input_2[0][0]                    \n",
      "__________________________________________________________________________________________________\n",
      "input_3 (InputLayer)            [(None, 256)]        0                                            \n",
      "__________________________________________________________________________________________________\n",
      "input_4 (InputLayer)            [(None, 256)]        0                                            \n",
      "__________________________________________________________________________________________________\n",
      "lstm_3 (LSTM)                   [(None, None, 256),  394240      embedding_1[1][0]                \n",
      "                                                                 input_3[0][0]                    \n",
      "                                                                 input_4[0][0]                    \n",
      "__________________________________________________________________________________________________\n",
      "input_5 (InputLayer)            [(None, 38, 256)]    0                                            \n",
      "__________________________________________________________________________________________________\n",
      "attention_layer (AdditiveAttent (None, None, 256)    256         lstm_3[1][0]                     \n",
      "                                                                 input_5[0][0]                    \n",
      "__________________________________________________________________________________________________\n",
      "concat (Concatenate)            (None, None, 512)    0           lstm_3[1][0]                     \n",
      "                                                                 attention_layer[1][0]            \n",
      "__________________________________________________________________________________________________\n",
      "dense (Dense)                   (None, None, 13000)  6669000     concat[0][0]                     \n",
      "==================================================================================================\n",
      "Total params: 8,727,496\n",
      "Trainable params: 8,727,496\n",
      "Non-trainable params: 0\n",
      "__________________________________________________________________________________________________\n",
      "None\n"
     ]
    }
   ],
   "source": [
    "# define ENCODER model\n",
    "encoder_model = Model(inputs = encoder_inputs, outputs = [encoder_output3, state_h3, state_c3])\n",
    "\n",
    "# create tensors(matrices) to save states at previous steps\n",
    "decoder_state_input_h = Input(shape=(HIDDEN_SIZE,))\n",
    "decoder_state_input_c = Input(shape=(HIDDEN_SIZE,))\n",
    "\n",
    "# define embedding layer of DECODER\n",
    "dec_emb2 = dec_emb_layer(decoder_inputs)\n",
    "\n",
    "# define LSTM layer of DECODER\n",
    "decoder_outputs2, state_h2, state_c2 = decoder_lstm(dec_emb2, initial_state = [decoder_state_input_h, decoder_state_input_c])\n",
    "    # 문장의 다음 단어를 예측하기 위해서 초기 상태(initial_state)를 이전 시점의 상태로 사용. 이는 뒤의 함수 decode_sequence()에 구현\n",
    "    # 훈련 과정에서와 달리 LSTM의 리턴하는 은닉 상태와 셀 상태인 state_h와 state_c를 버리지 않음.\n",
    "\n",
    "# define attention methods\n",
    "decoder_hidden_state_input = Input(shape = (MAX_TEXT_LEN, HIDDEN_SIZE))\n",
    "attn_out_inf = attn_layer([decoder_outputs2, decoder_hidden_state_input])\n",
    "decoder_inf_concat = Concatenate(axis=-1, name='concat')([decoder_outputs2, attn_out_inf])\n",
    "\n",
    "# define output layer of DECODER\n",
    "decoder_outputs2 = decoder_softmax_layer(decoder_inf_concat) \n",
    "\n",
    "# build final DECODER model\n",
    "decoder_model = Model(\n",
    "    [decoder_inputs] + [decoder_hidden_state_input,decoder_state_input_h, decoder_state_input_c],\n",
    "    [decoder_outputs2] + [state_h2, state_c2])\n",
    "\n",
    "print(\"My seq2seq model with attention mechanism for inference successfully built!\")\n",
    "print(decoder_model.summary())"
   ]
  },
  {
   "cell_type": "markdown",
   "id": "efd56a1e",
   "metadata": {},
   "source": [
    "3. Define inference method"
   ]
  },
  {
   "cell_type": "code",
   "execution_count": 38,
   "id": "83e20213",
   "metadata": {},
   "outputs": [],
   "source": [
    "def decode_sequence(input_seq):\n",
    "    e_out, e_h, e_c = encoder_model.predict(input_seq)    # get encoder information from input_seq\n",
    "    \n",
    "    # generate tokens of \"SOS\" (start of sentence)\n",
    "    target_seq = np.zeros((1,1))\n",
    "    target_seq[0, 0] = tar_word_to_index[\"sostoken\"]\n",
    "\n",
    "    \n",
    "    # start generating sentences\n",
    "    stop_condition = False\n",
    "    decoded_sentence = \"\"\n",
    "    \n",
    "    while not stop_condition:    # loop until stop_condition becomes True\n",
    "        output_tokens, h, c = decoder_model.predict([target_seq] + [e_out, e_h, e_c])\n",
    "        sampled_token_index = np.argmax(output_tokens[0, -1, :])\n",
    "        sampled_token = tar_index_to_word[sampled_token_index]\n",
    "\n",
    "        # if it is not EOS, keep generating sentences\n",
    "        if (sampled_token != \"eostoken\"):\n",
    "            decoded_sentence += \" \" + sampled_token\n",
    "\n",
    "        # if it is EOS or over MAX_HEADLINES_LEN, stop generating sentences -> stop_condition becomes True\n",
    "        if (sampled_token == \"eostoken\"  or len(decoded_sentence.split()) >= (MAX_HEADLINES_LEN - 1)):\n",
    "            stop_condition = True\n",
    "\n",
    "        # updates target sequences with length 1\n",
    "        target_seq = np.zeros((1,1))\n",
    "        target_seq[0, 0] = sampled_token_index\n",
    "\n",
    "        # update state information\n",
    "        e_h, e_c = h, c\n",
    "\n",
    "    return decoded_sentence"
   ]
  },
  {
   "cell_type": "markdown",
   "id": "ce469b14",
   "metadata": {},
   "source": [
    "### ✏️ Experiments of \"abstractive summarization\" with attention mechanism"
   ]
  },
  {
   "cell_type": "markdown",
   "id": "cdbe97a6",
   "metadata": {},
   "source": [
    "1. Define methods to convert(decode) interger-encoded results into text strings"
   ]
  },
  {
   "cell_type": "code",
   "execution_count": 39,
   "id": "73381ed7",
   "metadata": {},
   "outputs": [],
   "source": [
    "# define methods to decode source data (\"text\" column)\n",
    "def seq2text(input_seq):\n",
    "    result = \"\"\n",
    "    for i in input_seq:\n",
    "        if (i != PAD):\n",
    "            result = result + src_index_to_word[i] + \" \"\n",
    "    return result\n",
    "\n",
    "\n",
    "# define method to decode target data (\"headlines\" column)\n",
    "def seq2summary(input_seq):\n",
    "    result = \"\"\n",
    "    for i in input_seq:\n",
    "        if (i == EOS):    # stop decoding\n",
    "            break\n",
    "        if (i != PAD and i != SOS):    # keep decoding\n",
    "            result = result + tar_index_to_word[i] + \" \"\n",
    "    return result"
   ]
  },
  {
   "cell_type": "markdown",
   "id": "1d781c0a",
   "metadata": {},
   "source": [
    "2. Compare expected (label) and experimental results summary"
   ]
  },
  {
   "cell_type": "code",
   "execution_count": 40,
   "id": "fc0e69ee",
   "metadata": {},
   "outputs": [
    {
     "name": "stdout",
     "output_type": "stream",
     "text": [
      ">>> Original article sources      : pakistan foreign office spokesperson mohammad faisal saturday tweeted visa applications former indian navy officer kulbhushan jadhav wife mother received processed jadhav first meeting family since arrest march pakistan reportedly rejected india plea consular access jadhav times \n",
      ">>> Actual(label) headline        : visas for jadhav wife mother being processed pakistan \n",
      ">>> Suggested(inference) headline :  pakistan pakistan pakistan jadhav pakistan pak pak\n",
      "\n",
      "\n",
      ">>> Original article sources      : environmental group activists crashed shaped drone french nuclear plant spent fuel pool building highlight security highlights vulnerability buildings contain highest amount said called convert spent fuel buildings bunkers greater safety \n",
      ">>> Actual(label) headline        : activists crash drone into french nuclear plant \n",
      ">>> Suggested(inference) headline :  video of million stolen in years\n",
      "\n",
      "\n",
      ">>> Original article sources      : university california moved federal appeals court patents issued broad institute affiliated mit harvard university controversy centres deserves credit inventing gene editing technology crispr would also determine profit invention also believed lead nobel prize lead scientists \n",
      ">>> Actual(label) headline        : mit harvard fight in court over patents \n",
      ">>> Suggested(inference) headline :  human discover student of human colours\n",
      "\n",
      "\n",
      ">>> Original article sources      : world bank international monetary fund praised rbi remarkable progress strengthening banking supervision reports noted supervision regulation central bank remained strong improved recent years reports also noted new reforms successfully resolve problem india bad loans \n",
      ">>> Actual(label) headline        : world bank imf rbi for \n",
      ">>> Suggested(inference) headline :  us bank to acquire cryptocurrencies reports\n",
      "\n",
      "\n",
      ">>> Original article sources      : music video showing turkmenistan president gurbanguly berdimuhamedov rap grandson surfaced online berdimuhamedov seen singing guitar song reportedly written grandson earlier turkmenistan released video president berdimuhamedov cast action hero seen firing targets automatic rifle \n",
      ">>> Actual(label) headline        : turkmenistan president raps with grandson in music video \n",
      ">>> Suggested(inference) headline :  google bans not muslim muslim party\n",
      "\n",
      "\n",
      ">>> Original article sources      : celebrity contestant priyank sharma evicted reality show bigg boss looking said priyank said turned wonderful year three popular shows roadies bigg boss happened changed life completely nothing become something \n",
      ">>> Actual(label) headline        : celebrity contestant sharma evicted from bigg boss \n",
      ">>> Suggested(inference) headline :  singer singer passes away at\n",
      "\n",
      "\n",
      ">>> Original article sources      : two people arrested directorate revenue intelligence coimbatore international airport tuesday trying smuggle gold worth lakh gold found concealed inside items like electric iron tv form round square passengers belonging kerala travelling sri lankan airlines \n",
      ">>> Actual(label) headline        : held at coimbatore airport for smuggling gold worth \n",
      ">>> Suggested(inference) headline :  delhi police arrested for molesting airport\n",
      "\n",
      "\n",
      ">>> Original article sources      : days granting citizenship wikileaks founder julian assange ecuador president lenin moreno described inherited problem created nuisance government added country wants see positive result assange short time notably assange living ecuador embassy london since \n",
      ">>> Actual(label) headline        : ecuador prez calls julian assange an problem \n",
      ">>> Suggested(inference) headline :  us elects its first president dalai lama\n",
      "\n",
      "\n",
      ">>> Original article sources      : consumer forum mumbai directed punjab grill restaurant refund service charge customer pay compensation ips officer jai singh filed complaint seeking refund service charge amounting along compensation claimed food services mark pay additional charges \n",
      ">>> Actual(label) headline        : hotel to compensate after taking service charge \n",
      ">>> Suggested(inference) headline :  mumbai civic to get waste in bengaluru\n",
      "\n",
      "\n",
      ">>> Original article sources      : two helicopters including one belonging pakistani army used lahore gaddafi stadium dry outfield psl eliminator karachi kings peshawar today reacting user tweeted pakistani best another user wrote peaceful thing happened helicopter pakistan many years \n",
      ">>> Actual(label) headline        : army helicopter pakistan stadium before match \n",
      ">>> Suggested(inference) headline :  indian navy navy opens over years\n",
      "\n",
      "\n",
      ">>> Original article sources      : international yoga day poll inshorts global market research company revealed indians would like see yoga part school curriculum meanwhile respondents felt companies organise yoga sessions employees one lakh users participated poll recording four lakh responses \n",
      ">>> Actual(label) headline        : indians want yoga in school curriculum inshorts poll \n",
      ">>> Suggested(inference) headline :  microsoft launches its first cryptocurrency\n",
      "\n",
      "\n",
      ">>> Original article sources      : dubai based indian driver dh million raffle draw held abu dhabi international airport john hails kerala sharing money four friends dh buy ticket said use share invest children education help underprivileged \n",
      ">>> Actual(label) headline        : kerala man wins crore in abu dhabi lottery \n",
      ">>> Suggested(inference) headline :  man gets million for crore in\n",
      "\n",
      "\n",
      ">>> Original article sources      : passengers panicked delhi metro train noticing smoke compartment delhi metro rail corporation spokesperson said smoke emerged braking system passengers reached kaushambi serious issue spokesperson added highly unlikely somebody smoking \n",
      ">>> Actual(label) headline        : smoke in delhi metro train causes \n",
      ">>> Suggested(inference) headline :  bengaluru airport protest after bengaluru airport\n",
      "\n",
      "\n",
      ">>> Original article sources      : apple biggest iphone foxconn said injected million indian unit september january long term investment taiwanese firm make iphones india though xiaomi handsets country apple currently lower cost se models india local unit bengaluru \n",
      ">>> Actual(label) headline        : iphone invests crore in indian unit \n",
      ">>> Suggested(inference) headline :  apple to buy billion in flipkart reports\n",
      "\n",
      "\n",
      ">>> Original article sources      : vegetable vending machines installed chinese city shanghai vending machines operate hours day allow customers scan qr codes posted pay using cash vegetable prices reportedly cheaper sold retail stores \n",
      ">>> Actual(label) headline        : vending machines installed in chinese city \n",
      ">>> Suggested(inference) headline :  world first floating floating floating restaurant\n",
      "\n",
      "\n",
      ">>> Original article sources      : indian spinner harbhajan singh tweeted photo favourite kajol meeting singh addressed kajol dilwale le character simran wished actor luck ahead release new movie jab met simran favourite wish best upcoming movie harbhajan wrote twitter \n",
      ">>> Actual(label) headline        : met simran harbhajan singh on meeting kajol \n",
      ">>> Suggested(inference) headline :  bcci calls not everyone for de criticism\n",
      "\n",
      "\n",
      ">>> Original article sources      : video footage portable toilets skidding storm russian city moscow emerged online russians seen running away portable unclear people inside social media user said would run killed cause death would look silly \n",
      ">>> Actual(label) headline        : russians flee portable toilets during storm \n",
      ">>> Suggested(inference) headline :  man who charged for stealing\n",
      "\n",
      "\n",
      ">>> Original article sources      : chief justice js khehar said supreme court go paperless six seven months bid save funds make judiciary eco friendly said apex court collect records electronically lower courts high courts need file hard copies \n",
      ">>> Actual(label) headline        : supreme court to go paperless in months cji \n",
      ">>> Suggested(inference) headline :  iit chief chief chief passes away\n",
      "\n",
      "\n",
      ">>> Original article sources      : shares uk based chipmaker surged year amid speculation may selling needed apple new iphone company second best performer aim index year date beaten stocks firms like notably new iphone expected include sensing \n",
      ">>> Actual(label) headline        : chipmaker shares surge amid apple link speculation \n"
     ]
    },
    {
     "name": "stdout",
     "output_type": "stream",
     "text": [
      ">>> Suggested(inference) headline :  spacex launches rocket of electric rocket rocket\n",
      "\n",
      "\n",
      ">>> Original article sources      : google announced doodle google contest india inviting students make doodle company logo winner would win lakh college scholarship doodle would featured company website children day contest open students class doodle theme inspires \n",
      ">>> Actual(label) headline        : google announces lakh doodle google contest in india \n",
      ">>> Suggested(inference) headline :  india to host its first service\n",
      "\n",
      "\n",
      ">>> Original article sources      : abhishek bachchan instagram account hacked turkish cyber group tim one posts tagged katrina kaif wrote love another post featured missile picture caption read operation support turkey earlier abhishek twitter account also hacked group \n",
      ">>> Actual(label) headline        : abhishek bachchan instagram account gets hacked \n",
      ">>> Suggested(inference) headline :  kohli reacts to become sachin tendulkar\n",
      "\n",
      "\n",
      ">>> Original article sources      : year old mumbai girl assaulted wednesday employer demanded salary accused team leader given salary nearly month called mall wednesday pretext giving salary instead slashed face neck knife \n",
      ">>> Actual(label) headline        : mumbai girl assaulted by boss after demanding salary \n",
      ">>> Suggested(inference) headline :  man found by stolen in bengaluru\n",
      "\n",
      "\n",
      ">>> Original article sources      : needing runs last carlos smashed ben stokes first four deliveries successive sixes windies defeated england world final april four sixes final hit three sixes seven last assault helped windies become first team win two world \n",
      ">>> Actual(label) headline        : windies won world after final over read \n",
      ">>> Suggested(inference) headline :  world most expensive breaks world record\n",
      "\n",
      "\n",
      ">>> Original article sources      : teaser rajinikanth akshay kumar amy jackson starrer released thursday rajinikanth role scientist robot film robot akshay playing villain directed shankar film scheduled release november \n",
      ">>> Actual(label) headline        : teaser of rajinikanth akshay kumar released \n",
      ">>> Suggested(inference) headline :  teaser of nawazuddin of the film released\n",
      "\n",
      "\n",
      ">>> Original article sources      : day making error tweet congress vice president rahul gandhi wednesday said unlike human make odd mistake makes life interesting asked bjp continue pointing mistakes helps improve rahul posted wrong percentage increase prices essential commodities \n",
      ">>> Actual(label) headline        : am human rahul on tweet error \n",
      ">>> Suggested(inference) headline :  twitter reacts to not not pm\n",
      "\n",
      "\n",
      ">>> Original article sources      : mohit gupta haryana karnal topped india chartered accountancy final exam score gupta followed prashant aditya mittal delhi scored respectively total candidates cleared exam conducted november \n",
      ">>> Actual(label) headline        : haryana gupta tops ca exam \n",
      ">>> Suggested(inference) headline :  video is the world most expensive\n",
      "\n",
      "\n",
      ">>> Original article sources      : indian paralympic gold medallist questioned police death man allegedly nineteen year old satish kumar found dead railway track tamil nadu saturday earlier day satish reportedly fought two wheeler crashed athlete car \n",
      ">>> Actual(label) headline        : indian gold winner questioned over man death \n",
      ">>> Suggested(inference) headline :  man accidentally dies after his daughter daughter\n",
      "\n",
      "\n",
      ">>> Original article sources      : trailer ayushmann khurrana radhika apte tabu starrer andhadhun released ayushmann plays role blind piano player radhika plays love interest film directed sriram raghavan film scheduled release october andhadhun mark first collaboration sriram ayushmann tabu \n",
      ">>> Actual(label) headline        : trailer of ayushmann radhika tabu starrer andhadhun out \n",
      ">>> Suggested(inference) headline :  trailer of nawazuddin starrer starrer released\n",
      "\n",
      "\n",
      ">>> Original article sources      : himachal pradesh government directed schools ensure teachers dress formally workplace observed teachers dress leave good impression children said director higher education department added plan introduce uniforms teachers particularly schools affiliated himachal pradesh board \n",
      ">>> Actual(label) headline        : himachal pradesh government issues dress code for teachers \n",
      ">>> Suggested(inference) headline :  maharashtra to stop compulsory in uttar pradesh\n",
      "\n",
      "\n",
      ">>> Original article sources      : study conducted german researchers found files linked child pornography hidden bitcoin blockchain also found six files linked pornographic content including image depicting nudity young woman study concluded pornographic content make blockchain illegal bitcoin users \n",
      ">>> Actual(label) headline        : study finds child porn hidden in bitcoin blockchain \n",
      ">>> Suggested(inference) headline :  scientists discover new exoplanet discovered\n",
      "\n",
      "\n",
      ">>> Original article sources      : according reports new censor board chief prasoon joshi decision examining committee give cuts hollywood film cleared without cuts upcoming horror film given certificate examining committee reportedly cut visuals abusive words including ck \n",
      ">>> Actual(label) headline        : prasoon passes abuses in it with certificate reports \n",
      ">>> Suggested(inference) headline :  twitter reacts to not national national\n",
      "\n",
      "\n",
      ">>> Original article sources      : imperial college london researchers revealed patients suffering depression conventional treatments benefit treated natural psychedelic magic mushrooms patients given mushrooms described feeling reset treatment mri imaging revealed reduced blood flow areas brain involved stress fear \n",
      ">>> Actual(label) headline        : magic mushrooms reboot brain in depressed people study \n",
      ">>> Suggested(inference) headline :  scientists discover brain brain brain study\n",
      "\n",
      "\n",
      ">>> Original article sources      : helicopter pilot six passengers board crashed central nepal saturday according officials kathmandu bound airbus manufactured helicopter belongs nepal altitude air lost communication air traffic control around local time taking western district gorkha search rescue operation underway \n",
      ">>> Actual(label) headline        : helicopter with people on board crashes in nepal \n",
      ">>> Suggested(inference) headline :  indian plane crashes missing in hours\n",
      "\n",
      "\n",
      ">>> Original article sources      : thailand amended royal property law formally give king full control agency manages royal assets reportedly worth billion amendment first legislation concerning crown property decades also empowers king appoint individual agency manage assets properties \n",
      ">>> Actual(label) headline        : thailand king granted full control of palace wealth \n",
      ">>> Suggested(inference) headline :  billionaire founder founder resigns after crore\n",
      "\n",
      "\n",
      ">>> Original article sources      : year old ambulance driver arrested drunk driving bengaluru saturday police found vehicle driven manner driving ambulance initially claimed way take patient hospital later revealed actually visiting friend \n",
      ">>> Actual(label) headline        : drunk ambulance driver fakes emergency after being caught \n",
      ">>> Suggested(inference) headline :  man rescued from molesting woman in maharashtra\n",
      "\n",
      "\n",
      ">>> Original article sources      : food discovery startup zomato raised million chinese commerce giant alibaba payment affiliate ant financial round valued startup billion said thursday part deal ant financial buying million worth shares info edge taking total investment gurugram based startup million \n",
      ">>> Actual(label) headline        : zomato raises million at over billion valuation \n",
      ">>> Suggested(inference) headline :  zomato raises million from softbank valuation\n",
      "\n",
      "\n",
      ">>> Original article sources      : motorcycle borne gunmen tuesday assassinated mayor town philippines nueva province second killing official two days leaving government office gunmen approached sport utility vehicle shot dead monday city mayor antonio shot dead sniper \n",
      ">>> Actual(label) headline        : second philippine mayor shot dead in two days \n",
      ">>> Suggested(inference) headline :  indian police arrests children in gujarat\n",
      "\n",
      "\n",
      ">>> Original article sources      : actress vidya balan host radio show titled vidya balan badal ke toh per reports talk variety social issues woman empowerment depression reports stated show reportedly aired radio channel big fm launched march year \n",
      ">>> Actual(label) headline        : vidya balan to host radio talk show reports \n"
     ]
    },
    {
     "name": "stdout",
     "output_type": "stream",
     "text": [
      ">>> Suggested(inference) headline :  women were metoo on entering time\n",
      "\n",
      "\n",
      ">>> Original article sources      : addressing nation mann ki baat programme pm narendra modi announced creation sports talent search portal india aspiring sportspersons portal sportspersons register get help ministry sports getting proper training athletes required upload videos portal showcasing excellence sport \n",
      ">>> Actual(label) headline        : pm announces talent search portal for sportspersons \n",
      ">>> Suggested(inference) headline :  trump appointed india of india pm modi\n",
      "\n",
      "\n",
      ">>> Original article sources      : indian cricket team played first odi years ago july played odis cricket history india played odis till date winning success rate india first odi overs side game england former lost four wickets \n",
      ">>> Actual(label) headline        : india has played most odis in cricket history \n",
      ">>> Suggested(inference) headline :  india beat india first consecutive level series\n",
      "\n",
      "\n",
      ">>> Original article sources      : commerce raised million series aa funding round led firm acp ltd provides sellers entire ecosystem selling online including developing web store listing marketplaces social networks company headquartered singapore offices bengaluru gurugram \n",
      ">>> Actual(label) headline        : commerce raises crore in funding \n",
      ">>> Suggested(inference) headline :  fintech startup raises mn at series valuation\n",
      "\n",
      "\n",
      ">>> Original article sources      : one engines united airlines flight caught fire tuesday night plane preparing take airport united states control tower noticed fire following pilot cabin crew notified passengers evacuated via emergency passengers flight five suffered injuries \n",
      ">>> Actual(label) headline        : united airlines flight engine catches fire flyers injured \n",
      ">>> Suggested(inference) headline :  man found from storey flight in flight\n",
      "\n",
      "\n",
      ">>> Original article sources      : us based early stage venture capital firm capital co founder justin quit company admitted using power exchange sexual gain accused inappropriate behaviour six women capital also delayed plans close million capital extension second fund \n",
      ">>> Actual(label) headline        : venture capitalist quits firm after sexual harassment row \n",
      ">>> Suggested(inference) headline :  google sues its most sachs\n",
      "\n",
      "\n",
      ">>> Original article sources      : trader defrauded noida operator fake patanjali website offered lakh trader duped website www offered baba ramdev led patanjali products trader showed interest deposited lakh bank account website owner stopped responding calls messages \n",
      ">>> Actual(label) headline        : fake patanjali website trader of lakh \n",
      ">>> Suggested(inference) headline :  flipkart to acquire cryptocurrencies for flipkart\n",
      "\n",
      "\n",
      ">>> Original article sources      : farhan akhtar took instagram shared picture rumoured girlfriend captioned picture heart emoji earlier posted picture social media recently defended farhan reacting amrita puri tweet said sajid khan family including cousin farhan knew sexual misconduct \n",
      ">>> Actual(label) headline        : farhan shares pic with rumoured girlfriend \n",
      ">>> Suggested(inference) headline :  lionel messi shares picture with childhood girlfriend\n",
      "\n",
      "\n",
      ">>> Original article sources      : following end decades long driving ban women conservative muslim country flight school saudi arabia begin training women september oxford aviation academy received applications hundreds women longer living era women allowed limited applicant said \n",
      ">>> Actual(label) headline        : saudi aviation academy to train first women pilots \n",
      ">>> Suggested(inference) headline :  india to get children in india\n",
      "\n",
      "\n",
      ">>> Original article sources      : around million smartphone units shipped india first quarter leading year year growth according idc per data xiaomi maintained lead market followed samsung oppo online channel accounted facilitating sales march quarter report added \n",
      ">>> Actual(label) headline        : million smartphones shipped in india in report \n",
      ">>> Suggested(inference) headline :  world largest richest billion this year\n",
      "\n",
      "\n",
      ">>> Original article sources      : former india captain sourav ganguly featured photoshoot year old daughter sana jewellery brand sourav wife posted pictures father daughter duo shoot facebook page also shared cricketer sana wore deep pink saree sourav indigo shoot \n",
      ">>> Actual(label) headline        : ganguly does photoshoot with daughter for jewellery brand \n",
      ">>> Suggested(inference) headline :  ronaldo with ronaldo for his player celebration\n",
      "\n",
      "\n",
      ">>> Original article sources      : university mumbai decided renew contracts non teaching contractual employees expenses many employees whose contracts allowed lapse working university past eight years temporary employee said layoffs reduced university manpower around \n",
      ">>> Actual(label) headline        : mumbai university sacks employees to \n",
      ">>> Suggested(inference) headline :  railways to host its first floating restaurant\n",
      "\n",
      "\n",
      ">>> Original article sources      : pakistan pm shahid khaqan abbasi said upcoming general elections conducted aliens comes former pm nawaz sharif said ruling pakistan muslim league nawaz party competing aliens opposition parties abbasi added caretaker government would set days oversee elections \n",
      ">>> Actual(label) headline        : aliens will conduct elections in pakistan pm abbasi \n",
      ">>> Suggested(inference) headline :  pakistan sharif sharif sharif for pakistan pm\n",
      "\n",
      "\n"
     ]
    }
   ],
   "source": [
    "for i in range(50, 100):\n",
    "    print(\">>> Original article sources      :\", seq2text(encoder_input_test[i]))\n",
    "    print(\">>> Actual(label) headline        :\", seq2summary(decoder_input_test[i]))\n",
    "    print(\">>> Suggested(inference) headline :\", decode_sequence(encoder_input_test[i].reshape(1, MAX_TEXT_LEN)))\n",
    "    print(\"\\n\")"
   ]
  },
  {
   "cell_type": "markdown",
   "id": "91af378f",
   "metadata": {},
   "source": [
    "**abstractive summarization 결과 분석**\n",
    "- 장점\n",
    "    - (실제 학습 구조는 다르지만 표면적으로는) 핵심적인 단어를 선정하여 새로운 문장을 작성하는 방식으로, 기사 내용 구조나 스타일(기승전결, 미사여구 등등)과 상관없이 담백한 요약 결과(제목)를 도출할 수 있다 \n",
    "    - 기사 내용의 길이에 상관없이 일정한 분량의 요약 결과를 도출하므로, 간결하고 통일성 있는 기사 제목 제시가 가능하다\n",
    "- 단점 \n",
    "    - 핵심적인 단어를 선정하여 조합하는 방식이므로 문법적 오류가 치명적이다\n",
    "    - MAX_LEN 제한을 염두에 두지 않고 요약 결과를 도출하므로 (문장이 끝나는 타이밍을 사전에 고려하지 않음), 문장이 도중에 끊긴듯한 요약 결과를 도출하는 경우가 있다 (예: \"singer singer passes away at\")\n",
    "    - 핵심 단어가 지나치가 반복되는 경우가 있다 (예: 파키스탄 관련 사건 내용을 \"pakistan pakistan pakistan jadhav pakistan pak pak\"과 같이 요약) -> 이렇게 일부 핵심 단어가 분량의 대부분을 차지하면, 다른 핵심 단어가 등장하지 못하므로 오히려 문맥 파악에 어려움을 준다\n",
    "    - 학습 모델의 성능이 좋지 않은 것인지... 현재 결과만으로는 요약의 역할을 거의 하고있지 않다 💦"
   ]
  },
  {
   "cell_type": "markdown",
   "id": "aa3cbac5",
   "metadata": {},
   "source": [
    "---"
   ]
  },
  {
   "cell_type": "markdown",
   "id": "9253a7d4",
   "metadata": {},
   "source": [
    "### ✏️ Experiments of \"extractive summarization\""
   ]
  },
  {
   "cell_type": "markdown",
   "id": "26de1485",
   "metadata": {},
   "source": [
    "1. Get original dataset (previous dataset is much pre-processed)"
   ]
  },
  {
   "cell_type": "code",
   "execution_count": 41,
   "id": "07ccf4ec",
   "metadata": {},
   "outputs": [],
   "source": [
    "data = pd.read_csv(\"news_summary_more.csv\", encoding = \"iso-8859-1\")"
   ]
  },
  {
   "cell_type": "markdown",
   "id": "8a6c722a",
   "metadata": {},
   "source": [
    "2. Perform extractive summarization"
   ]
  },
  {
   "cell_type": "code",
   "execution_count": 42,
   "id": "faef1451",
   "metadata": {},
   "outputs": [
    {
     "name": "stdout",
     "output_type": "stream",
     "text": [
      ">>> Original article sources      : Former Finance Minister Yashwant Sinha on Tuesday demanded a probe into the alleged diversion of loans worth Ã¢ÂÂ¹31,000 crore by Dewan Housing Finance (DHFL). All agencies including regulators of the government have failed to track nefarious deals, he said. This comes after a media report on Tuesday accused DHFL's controlling shareholders of diverting funds to shell companies to buy assets.\n",
      ">>> Actual(label) headline        : Yashwant Sinha demands probe into alleged fund diversion by DHFL\n",
      ">>> Suggested(inference) headline : Former Finance Minister Yashwant Sinha on Tuesday demanded a probe into the alleged diversion of loans worth Ã¢ÂÂ¹31,000 crore by Dewan Housing Finance (DHFL).\n",
      "\n",
      "\n",
      ">>> Original article sources      : US-based Boeing on Wednesday reported annual sales worth $101.12 billion in 2018, the first time the planemaker's sales crossed the $100-billion mark in its 102-year history. The company said it expects to deliver between 895 and 905 commercial aircraft in 2019. Boeing retained its position as the world's largest planemaker for the seventh straight year, delivering 806 aircraft in 2018. \n",
      ">>> Actual(label) headline        : Boeing sales cross $100bn for 1st time in its 102-yr history\n",
      ">>> Suggested(inference) headline : Boeing retained its position as the world's largest planemaker for the seventh straight year, delivering 806 aircraft in 2018.\n",
      "\n",
      "\n",
      ">>> Original article sources      : text\n",
      ">>> Actual(label) headline        : headlines\n",
      ">>> Suggested(inference) headline : \n",
      "\n",
      "\n",
      ">>> Original article sources      : OnePlus has emerged as India's best-selling premium smartphone brand of 2018, as per a report by Counterpoint. It captured 36% of the market share in the premium segment, in Q4 2018. Further, its OnePlus 6 emerged as the highest selling premium smartphone of 2018 followed by OnePlus 6T.\n",
      ">>> Actual(label) headline        : OnePlus named bestselling premium smartphone brand of 2018: Report\n",
      ">>> Suggested(inference) headline : Further, its OnePlus 6 emerged as the highest selling premium smartphone of 2018 followed by OnePlus 6T.\n",
      "\n",
      "\n",
      ">>> Original article sources      : Filmmaker Pooja Bhatt, while talking about the presentation of women in her films, said, \"I can never look at a female body, even if it's naked, in a vulgar manner.\" \"Our audience can say...the women in my films are bold or sensual, but never ever vulgar,\" she added. Pooja further said her censor board is her \"own heart and mind\".\n",
      ">>> Actual(label) headline        : Can never look at female body, even if naked, in vulgar way: Pooja\n",
      ">>> Suggested(inference) headline : \n",
      "\n",
      "\n",
      ">>> Original article sources      : Actress Mishti, who has featured in 'Manikarnika: The Queen of Jhansi', has said the film's co-director Kangana Ranaut made false promises to the cast. \"Kangana had said, 'I want dates because all characters look jumbled up...I'm trying my best to give everybody a prominent space on screen.' After watching the movie, there is no scope for other characters,\" Mishti added. \n",
      ">>> Actual(label) headline        : Kangana made fake promises to cast: 'Manikarnika' actress Mishti\n",
      ">>> Suggested(inference) headline : \n",
      "\n",
      "\n",
      ">>> Original article sources      : The high-powered committee led by PM Narendra Modi to select the next CBI Director will meet again on February 1, Congress leader Mallikarjun Kharge has said. The panel consisting of Kharge and Chief Justice of India Ranjan Gogoi met on January 24, but the meeting ended \"inconclusively\" after Kharge cited lack of details in the list of 80 IPS officers. \n",
      ">>> Actual(label) headline        : PM-led panel to meet on Friday to pick new CBI chief: Kharge\n",
      ">>> Suggested(inference) headline : \n",
      "\n",
      "\n",
      ">>> Original article sources      : Nevada State Athletic Commission has banned MMA fighters Conor McGregor and Khabib Nurmagomedov for six months and nine months respectively over their roles in the mass brawl that occurred after their fight at UFC 229 last October. McGregor and Khabib have been fined $50,000 (Ã¢ÂÂ¹35 lakh) and $500,000 (Ã¢ÂÂ¹3.5 crore) respectively. The brawl occurred after Nurmagomedov confronted McGregor's teammate.\n",
      ">>> Actual(label) headline        : McGregor fined Ã¢ÂÂ¹35 lakh, Khabib Ã¢ÂÂ¹3.5 crore for brawl; both banned\n",
      ">>> Suggested(inference) headline : Nevada State Athletic Commission has banned MMA fighters Conor McGregor and Khabib Nurmagomedov for six months and nine months respectively over their roles in the mass brawl that occurred after their fight at UFC 229 last October.\n",
      "\n",
      "\n",
      ">>> Original article sources      : Pakistan captain Sarfaraz Ahmed, who has been banned for four matches over racist remarks, took an apparent dig at his critics by sharing a video of a child reciting 'log hai na' poem on Twitter. \"Pyaar karna hai to khud se kar...dushmani karne ke liye log hai na,\" the poem read. \"This is how the world is,\" Sarfaraz wrote.\n",
      ">>> Actual(label) headline        : Banned for 4 matches, Sarfaraz shares 'log hai na' poem for critics\n",
      ">>> Suggested(inference) headline : Pakistan captain Sarfaraz Ahmed, who has been banned for four matches over racist remarks, took an apparent dig at his critics by sharing a video of a child reciting 'log hai na' poem on Twitter.\n",
      "\n",
      "\n",
      ">>> Original article sources      : Banned cricketer Sreesanth has told Supreme Court he initially confessed to Delhi Police about his alleged involvement in 2013 IPL spot-fixing scandal to escape continuous police torture. Sreesanth further said the bookie tried dragging him into spot-fixing but he didn't fall for it. Citing Sreesanth not informing BCCI about fixing approach, the apex court said Sreesanth's conduct \"wasn't good\".\n",
      ">>> Actual(label) headline        : Confessed to spot-fixing to escape police torture: Sreesanth to SC\n",
      ">>> Suggested(inference) headline : Sreesanth further said the bookie tried dragging him into spot-fixing but he didn't fall for it.\n",
      "\n",
      "\n",
      ">>> Original article sources      : The Finance Ministry on Wednesday said the government will present an Interim Budget on February 1. The clarification came amid speculations that a full Budget may be presented during the session. The government recently assigned Piyush Goyal temporary additional charge of the Finance and Corporate Affairs ministries in the absence of Arun Jaitley, who is in the US for treatment.\n",
      ">>> Actual(label) headline        : Govt to present Interim Budget, not full Budget on February 1\n",
      ">>> Suggested(inference) headline : The Finance Ministry on Wednesday said the government will present an Interim Budget on February 1.\n",
      "\n",
      "\n",
      ">>> Original article sources      : US President Donald Trump on Wednesday called his country's top intelligence chiefs \"naive\" and \"wrong\" on Iran and added that they should perhaps \"go back to school\". Trump claimed Iran is testing rockets, calling the country \"a source of potential danger and conflict\". Top US intelligence officials on Tuesday said that Iran isn't currently taking steps towards building nuclear weapons.\n",
      ">>> Actual(label) headline        : US intelligence naive and wrong, should go back to school: Trump\n",
      ">>> Suggested(inference) headline : US President Donald Trump on Wednesday called his country's top intelligence chiefs \"naive\" and \"wrong\" on Iran and added that they should perhaps \"go back to school\".\n",
      "\n",
      "\n",
      ">>> Original article sources      : A senior priest at the Vatican who handled cases of sexual abuse has quit after being accused of sexual abuse by a former nun. The accused priest claimed he is innocent and said he would consider taking legal action. The Vatican said in a statement that a Church investigation of the case was underway.\n",
      ">>> Actual(label) headline        : Vatican priest handling sex abuse cases quits over alleged sex abuse\n",
      ">>> Suggested(inference) headline : A senior priest at the Vatican who handled cases of sexual abuse has quit after being accused of sexual abuse by a former nun.\n",
      "\n",
      "\n",
      ">>> Original article sources      : A 22-year-old writer turned down a job offer, claiming she was bullied to the point of tears during her two-hour interview by a UK company's CEO. Olivia Bland added the \"brutal\" interview brought back painful memories of her abusive relationship. \"I am so sorry that anyone has been hurt, it is never my intent,\" Web Applications CEO Craig Dean replied. \n",
      ">>> Actual(label) headline        : Woman rejects job after CEO bullies her in interview; he apologises\n",
      ">>> Suggested(inference) headline : A 22-year-old writer turned down a job offer, claiming she was bullied to the point of tears during her two-hour interview by a UK company's CEO.\n",
      "\n",
      "\n",
      ">>> Original article sources      : Noida Police has arrested Sector 20 station in-charge Manoj Pant and three journalists for allegedly extorting money from a call centre owner for removing his name from an FIR. The four were caught while taking bribe money of Ã¢ÂÂ¹8 lakh, police said. Pant was the lead investigator in the Paytm extortion case involving Founder Vijay Shekhar Sharma's secretary Sonia Dhawan.\n",
      ">>> Actual(label) headline        : Police officer probing Paytm extortion case arrested for extortion\n",
      ">>> Suggested(inference) headline : Noida Police has arrested Sector 20 station in-charge Manoj Pant and three journalists for allegedly extorting money from a call centre owner for removing his name from an FIR.\n",
      "\n",
      "\n",
      ">>> Original article sources      : Airtel on Wednesday said that Qatar's sovereign wealth fund Qatar Investment Authority will invest $200 million through a primary equity issuance in Airtel Africa. India's second-largest telecom operator's Africa unit recently raised $1.25 billion from six investors. Airtel Africa, the holding company for Airtel's operations in 14 African countries, is preparing for an initial public offering.\n",
      ">>> Actual(label) headline        : Qatar to invest $200 million in Airtel Africa\n",
      ">>> Suggested(inference) headline : Airtel Africa, the holding company for Airtel's operations in 14 African countries, is preparing for an initial public offering.\n",
      "\n",
      "\n",
      ">>> Original article sources      : Actor Shreyas Talpade said that 'Golmaal' filmmaker Rohit Shetty is still working on the script for the fifth instalment of the 'Golmaal' film franchise. \"He was telling us the other day that he...cracked some story. Once he's done with the...scripting, he'll take a call,Ã¢ÂÂ the actor added. The series features Shreyas along with Ajay Devgn, Arshad Warsi and Tusshar Kapoor.\n",
      ">>> Actual(label) headline        : Rohit Shetty still working on script for Golmaal 5: Shreyas\n",
      ">>> Suggested(inference) headline : Actor Shreyas Talpade said that 'Golmaal' filmmaker Rohit Shetty is still working on the script for the fifth instalment of the 'Golmaal' film franchise.\n",
      "\n",
      "\n",
      ">>> Original article sources      : A 72-year-old man named Terry Sanderson has sued 'Avengers' actress Gwyneth Paltrow for allegedly crashing into him while skiing, and is seeking $3.1 million (over Ã¢ÂÂ¹22 crore) in damages. The lawsuit states the actress got up and skied away after knocking the man down, leaving him with broken ribs. The incident reportedly took place in 2016 in Utah, US. \n",
      ">>> Actual(label) headline        : Man sues Avengers actress Gwyneth for Ã¢ÂÂ¹22 crore over ski crash\n",
      ">>> Suggested(inference) headline : A 72-year-old man named Terry Sanderson has sued 'Avengers' actress Gwyneth Paltrow for allegedly crashing into him while skiing, and is seeking $3.1 million (over Ã¢ÂÂ¹22 crore) in damages.\n",
      "\n",
      "\n",
      ">>> Original article sources      : Yami Gautam was felicitated by Border Security Force (BSF) in Amritsar for her performance in 'Uri: The Surgical Strike'. \"BSF is the first line of defence of our country and it gives me...pride to have met them,\" Yami said. The film, which also stars Vicky Kaushal, is based on the Indian Army's surgical strike operation which took place in 2016.\n",
      ">>> Actual(label) headline        : Yami Gautam felicitated by BSF for performance in 'Uri...'\n",
      ">>> Suggested(inference) headline : Yami Gautam was felicitated by Border Security Force (BSF) in Amritsar for her performance in 'Uri: The Surgical Strike'.\n",
      "\n",
      "\n",
      ">>> Original article sources      : Social media giant Facebook has hired privacy critic Nate Cardozo, formerly the top legal counsel for US privacy watchdog EFF, as a privacy policy manager for WhatsApp. Cardozo had called Facebook a \"faceless corporation\" whose business model depends on user's confusion and indifference about privacy, in October 2015. Facebook has also hired attorney Robyn Greene as its privacy policy manager.\n",
      ">>> Actual(label) headline        : Facebook hires its privacy critic as privacy policy manager\n",
      ">>> Suggested(inference) headline : \n",
      "\n",
      "\n",
      ">>> Original article sources      : Apple CEO Tim Cook said the company plans to lower some iPhones' prices in markets with currencies that weakened against the US dollar in the past year. \"WeÃ¢ÂÂve decided to go back to (iPhone prices) more commensurate with...local prices...a year ago,\" Cook added. The price cuts, in hopes of increasing sales, are reportedly occurring for second time in 12 years.\n",
      ">>> Actual(label) headline        : Apple to cut some iPhones' prices outside US over strong dollar\n",
      ">>> Suggested(inference) headline : \"WeÃ¢ÂÂve decided to go back to (iPhone prices) more commensurate with...local prices...a year ago,\" Cook added.\n",
      "\n",
      "\n",
      ">>> Original article sources      : Scientists in Australia's Flinders University are testing a wetsuit prototype that could protect its wearer after a shark attack. The suit, made of synthetic material similar to the material used in bulletproof vests, could help reduce blood loss after a shark attack. \"The majority of fatalities from shark bites is due to blood loss...shock from blood loss,\" a scientist said.\n",
      ">>> Actual(label) headline        : Scientists test wetsuit to protect wearer after shark attack\n",
      ">>> Suggested(inference) headline : \"The majority of fatalities from shark bites is due to blood loss...shock from blood loss,\" a scientist said.\n",
      "\n",
      "\n",
      ">>> Original article sources      : BJP National Secretary Rahul Sinha on Wednesday asked the party workers in West Bengal to come armed with sticks to PM Narendra Modi's rally in the state on February 2. His statement came a day after clashes broke out following BJP chief Amit Shah's WB rally. Sinha added the TMC is indulged in violence as they're afraid of BJP's strength.\n",
      ">>> Actual(label) headline        : Come armed with sticks for PM Modi's rally in WB: BJP leader\n",
      ">>> Suggested(inference) headline : BJP National Secretary Rahul Sinha on Wednesday asked the party workers in West Bengal to come armed with sticks to PM Narendra Modi's rally in the state on February 2.\n",
      "\n",
      "\n",
      ">>> Original article sources      : BJP President Amit Shah on Wednesday took a dig at the Opposition parties saying that the 'mahagathbandhan' for the Opposition is 4B - \"Bua-Bhatija-Bhai-Behen\". He added that 4B for the BJP meant \"Badhta Bharat, Banta Bharat\". He said Opposition's government cannot take the country ahead and \"only Modiji can provide a 'mazboot' (strong) government\".\n",
      ">>> Actual(label) headline        : '4B' for Opposition is 'Bua-Bhatija-Bhai-Behen': Amit Shah\n",
      ">>> Suggested(inference) headline : BJP President Amit Shah on Wednesday took a dig at the Opposition parties saying that the 'mahagathbandhan' for the Opposition is 4B - \"Bua-Bhatija-Bhai-Behen\".\n",
      "\n",
      "\n",
      ">>> Original article sources      : German automaker Volkswagen Group has retained the car industry's top spot in global sales, beating its Japanese rival Toyota. Volkswagen's sales, including its MAN and Scania heavy trucks and buses, rose 0.9% to 10.83 million in 2018, the company had said. Toyota came second with around 10.6 million deliveries, including its affiliated brands Daihatsu and Hino, in 2018.\n",
      ">>> Actual(label) headline        : Volkswagen retains top spot in global sales, beats Toyota\n",
      ">>> Suggested(inference) headline : Volkswagen's sales, including its MAN and Scania heavy trucks and buses, rose 0.9% to 10.83 million in 2018, the company had said.\n",
      "\n",
      "\n",
      ">>> Original article sources      : Ousted Nissan Chairman Carlos Ghosn has said his arrest over alleged financial misconduct was led by \"plot and treason\" by the Japanese carmaker's executives who opposed its deeper integration with Renault and Mitsubishi. Ghosn added he had discussed the integration plans with Nissan's CEO in September, a month before his arrest. He further said he wouldn't flee if granted bail.\n",
      ">>> Actual(label) headline        : Plot, treason by Nissan executives led to my arrest: Ghosn\n",
      ">>> Suggested(inference) headline : Ousted Nissan Chairman Carlos Ghosn has said his arrest over alleged financial misconduct was led by \"plot and treason\" by the Japanese carmaker's executives who opposed its deeper integration with Renault and Mitsubishi.\n",
      "\n",
      "\n",
      ">>> Original article sources      : The government has cut down customs duty on import of parts and components for electric vehicles to 10-15%, down from the previous 15-30%. The Central Board of Indirect Taxes and Customs said disassembled parts will attract 10% duty, whereas 15% will be levied on pre-assembled packs. However, fully built electric vehicles will continue to attract 25% import duty.\n",
      ">>> Actual(label) headline        : Govt cuts customs duty on electric vehicle parts to 10-15%\n",
      ">>> Suggested(inference) headline : The government has cut down customs duty on import of parts and components for electric vehicles to 10-15%, down from the previous 15-30%.\n",
      "\n",
      "\n",
      ">>> Original article sources      : Government officials on Wednesday said that a swine flu outbreak has killed 76 people this year in Rajasthan. Colder weather has worsened the seasonal outbreak of the H1N1 virus in the country, officials added. Rajasthan recorded more than a third of all swine flu deaths in India with Jodhpur being the worst affected area in the state, officials said.\n",
      ">>> Actual(label) headline        : Swine flu outbreak kills 76 in Rajasthan\n",
      ">>> Suggested(inference) headline : Government officials on Wednesday said that a swine flu outbreak has killed 76 people this year in Rajasthan.\n",
      "\n",
      "\n",
      ">>> Original article sources      : North Korea is \"unlikely to completely give up its nuclear weapons and production capabilities\", Director of US' National Intelligence, Daniel Coats, said. \"North Korean leaders view nuclear arms as critical to regime survival,\" he added. His statements come despite North Korea's agreement with the US at the Singapore summit last year to denuclearise the Korean Peninsula. \n",
      ">>> Actual(label) headline        : N Korea unlikely to give up nuclear weapons: US intelligence chief\n",
      ">>> Suggested(inference) headline : \"North Korean leaders view nuclear arms as critical to regime survival,\" he added.\n",
      "\n",
      "\n",
      ">>> Original article sources      : Jet Airways on Wednesday denied it was directed by GE Capital Aviation Services to ground its aircraft due to non-payment of dues. The airline said it's in the process of delivering three aircraft to lessors due to the expiry of lease terms. Further, three aircraft have been temporarily grounded to carry out an engine normalisation exercise, it added.\n",
      ">>> Actual(label) headline        : Jet Airways denies being told to ground aircraft\n",
      ">>> Suggested(inference) headline : Further, three aircraft have been temporarily grounded to carry out an engine normalisation exercise, it added.\n",
      "\n",
      "\n",
      ">>> Original article sources      : Retired Justice Srikrishna's enquiry panel has found that ex-CEO Chanda Kochhar violated ICICI Bank's code of conduct. The bank said it'll treat Kochhar's exit as termination and will take back all bonuses paid to her from April 2009 until March 2018. The CBI recently filed a case against Kochhar, her husband, and Videocon MD in the ICICI-Videocon loan case.\n",
      ">>> Actual(label) headline        : ICICI fires Chanda Kochhar, to take back bonuses paid in last 9 yrs\n",
      ">>> Suggested(inference) headline : Retired Justice Srikrishna's enquiry panel has found that ex-CEO Chanda Kochhar violated ICICI Bank's code of conduct.\n",
      "\n",
      "\n",
      ">>> Original article sources      : Ex-India cricketer Jacob Martin has been shifted to general ward from the ICU after being on a ventilator for nearly a month following a road accident, wherein he severely injured his lungs. Martin's wife Khyati mentioned there are chances that Jacob will be in hospital for two more months. BCCI, CSK and various cricketers provided financial assistance for Martin's treatment.\n",
      ">>> Actual(label) headline        : Ex-cricketer Martin out of ICU after being on ventilator for a month\n",
      ">>> Suggested(inference) headline : Ex-India cricketer Jacob Martin has been shifted to general ward from the ICU after being on a ventilator for nearly a month following a road accident, wherein he severely injured his lungs.\n",
      "\n",
      "\n",
      ">>> Original article sources      : Sri Lanka all-rounder Thisara Perera has written to Sri Lanka Cricket CEO Ashley de Silva, asking the board to intervene after ODI captain Lasith Malinga's wife Tanya targeted him on Facebook. Tanya accused Perera of meeting country's Sports Minister to secure his place in the team. \"We've become laughing stock of whole country...because of one person's personal vendetta,\" Perera wrote.\n",
      ">>> Actual(label) headline        : Malinga's wife targets Perera on Facebook, he seeks board's help\n",
      ">>> Suggested(inference) headline : Tanya accused Perera of meeting country's Sports Minister to secure his place in the team.\n",
      "\n",
      "\n",
      ">>> Original article sources      : Goa CM and ex-Defence Minister Manohar Parrikar has written a letter to Congress President Rahul Gandhi over his claim that Parrikar told him he has nothing to do with new Rafale deal. Parrikar wrote, \"Kindly do not use your visit to an ailing person to feed political opportunism.\" In their five-minute meeting, they didn't discuss anything about Rafale, he added.\n",
      ">>> Actual(label) headline        : Don't use visit to ailing man for political gains: Goa CM to Rahul\n",
      ">>> Suggested(inference) headline : \n",
      "\n",
      "\n",
      ">>> Original article sources      : Prime Minister Narendra Modi stopped his speech at the inauguration of the new terminal building at Surat airport after observing that a cameraman had fainted. PM Modi then asked his officers to urgently arrange for an ambulance for the cameraman. \"It's good that PM was paying attention to his surroundings during his speech,\" the cameraman later said from a hospital. \n",
      ">>> Actual(label) headline        : PM Modi stops speech after cameraman faints, asks officers to help\n",
      ">>> Suggested(inference) headline : PM Modi then asked his officers to urgently arrange for an ambulance for the cameraman.\n",
      "\n",
      "\n",
      ">>> Original article sources      : A couple got divorced minutes after their wedding ceremony got over in Gujarat's Gondal as a disagreement broke out and relatives from both sides started throwing dishes at each other during lunch. The advocates representing both sides arrived at the marriage hall and got the couple divorced within minutes. The couple even reportedly returned the gifts exchanged during the ceremony.\n",
      ">>> Actual(label) headline        : Couple divorces minutes after marriage as families fight over lunch\n",
      ">>> Suggested(inference) headline : A couple got divorced minutes after their wedding ceremony got over in Gujarat's Gondal as a disagreement broke out and relatives from both sides started throwing dishes at each other during lunch.\n",
      "\n",
      "\n",
      ">>> Original article sources      : Gujarat Education Minister Bhupendrasinh Chudasma has written a congratulatory message to a yoga ashram run by rape-convict Asaram's organisation for observing February 14 as \"Matru-Pitru Pujan Divas\" (Mother-Father worship day). After the Congress termed the letter as \"unfortunate\", saying it \"shows the nexus between BJP and godman\", Chudasma clarified, \"All I have done is sent best wishes.\" \n",
      ">>> Actual(label) headline        : Minister praises rape-convict Asaram over Matru-Pitru Divas\n",
      ">>> Suggested(inference) headline : \n",
      "\n",
      "\n",
      ">>> Original article sources      : Venezuelan President NicolÃÂ¡s Maduro has claimed that his American counterpart Donald Trump ordered the Colombian government and the Colombian mafia to kill him. \"If something happens to me, Trump and Colombian President IvÃÂ¡n MÃÂ¡rquez will bear responsibility,\" he added. The US has blamed Maduro for the economic crisis in Venezuela and recognised opposition leader Juan GuaidÃÂ³ as interim President.\n",
      ">>> Actual(label) headline        : Trump ordered to kill me: Venezuela President Maduro\n",
      ">>> Suggested(inference) headline : Venezuelan President NicolÃÂ¡s Maduro has claimed that his American counterpart Donald Trump ordered the Colombian government and the Colombian mafia to kill him.\n",
      "\n",
      "\n",
      ">>> Original article sources      : Eight Asian billionaires aged 90 or above on the Bloomberg Billionaires Index of world's 500 richest people have a combined net worth of $125 billion. The richest among them is Hong Kong's Li Ka Shing with a net worth of $30.5 billion. India's 90-year-old Pallonji Mistry, who controls 18.3% of Tata Sons through Shapoorji Pallonji Group, is worth $20.1 billion.\n",
      ">>> Actual(label) headline        : 8 Asian billionaires aged over 90, including Mistry, control $125bn\n",
      ">>> Suggested(inference) headline : The richest among them is Hong Kong's Li Ka Shing with a net worth of $30.5 billion.\n",
      "\n",
      "\n",
      ">>> Original article sources      : Tamil Nadu food safety officials on Wednesday raided and seized 1,000 kgs of banned plastic items from Hotel Saravana Bhavan in Chennai's Vadapalani. Officials began a surprise check in the branch at 8 am. The state government had banned single-use plastics from January 1 and said the banned items should be handed over at the offices of the city corporation.\n",
      ">>> Actual(label) headline        : 1,000 kg banned plastic seized from Saravana Bhavan in Chennai\n",
      ">>> Suggested(inference) headline : Tamil Nadu food safety officials on Wednesday raided and seized 1,000 kgs of banned plastic items from Hotel Saravana Bhavan in Chennai's Vadapalani.\n",
      "\n",
      "\n",
      ">>> Original article sources      : Actress Shamita Shetty was verbally abused and her driver was slapped in an incident of road rage in Mumbai on Tuesday, as per reports. The incident reportedly took place after a motorist who was accompanied by two friends, rammed his vehicle into Shamita's car. The men allegedly manhandled and threatened Shamita's driver when he stepped out to inspect the damage. \n",
      ">>> Actual(label) headline        : Shamita Shetty abused, driver slapped after accident: Report\n",
      ">>> Suggested(inference) headline : Actress Shamita Shetty was verbally abused and her driver was slapped in an incident of road rage in Mumbai on Tuesday, as per reports.\n",
      "\n",
      "\n",
      ">>> Original article sources      : Actress Vaani Kapoor said that trolling has become a norm on social media, adding, \"There's no one who hasn't got trolled on social media.\" \"Everybody is out there to pull the other person down but it'll only bother [you] if you let it bother you,\" Vaani added. She further said, social media offers a platform \"where people enjoy belittling everybody\". \n",
      ">>> Actual(label) headline        : Trolling has become the norm on social media: Vaani\n",
      ">>> Suggested(inference) headline : \n",
      "\n",
      "\n",
      ">>> Original article sources      : Actress Sushmita Sen took to Instagram to share a joke on the subject of marriage. \"Whoever invented marriage was creepy as hell. Like I love you so much IÃ¢ÂÂm gonna get the government involved so you canÃ¢ÂÂt leave,\" Sushmita's post read. \"This is an insult to [the] beauty of marriage,\" an Instagram user commented on her post.\n",
      ">>> Actual(label) headline        : Whoever invented marriage was creepy as hell: Sushmita posts joke\n",
      ">>> Suggested(inference) headline : \"This is an insult to [the] beauty of marriage,\" an Instagram user commented on her post.\n",
      "\n",
      "\n",
      ">>> Original article sources      : Television actor Karanvir Bohra, who flew to Russia on Tuesday to attend a film festival, has been detained in Moscow due to passport damage. \"They [are] contemplating to deport me back to India,\" the actor wrote on Twitter. The Indian embassy in Russia's capital responded to his tweet and said that they were looking into the issue. \n",
      ">>> Actual(label) headline        : Actor Karanvir Bohra detained in Russia over passport damage\n",
      ">>> Suggested(inference) headline : Television actor Karanvir Bohra, who flew to Russia on Tuesday to attend a film festival, has been detained in Moscow due to passport damage.\n",
      "\n",
      "\n",
      ">>> Original article sources      : While speaking about winning awards for his films, Shah Rukh Khan said, \"If I don't get an award, that award is at a loss.\" \"Sometimes, the prestige of an award increases when I receive it,\" the actor jokingly added. Shah Rukh further said that he was \"extremely ambitious\" but in a \"fair manner\". \n",
      ">>> Actual(label) headline        : If I don't get an award, that award is at loss: SRK\n",
      ">>> Suggested(inference) headline : \n",
      "\n",
      "\n",
      ">>> Original article sources      : Actress Patralekhaa will make her debut in the Kannada film industry with the action-comedy film 'Where is my Kannadaka?' \"I can definitely say that itÃ¢ÂÂs a kind of role that I havenÃ¢ÂÂt portrayed on screen so far and that makes it special for me,\" the actress said in a statement. Shooting for the film will reportedly begin in April.\n",
      ">>> Actual(label) headline        : Actress Patralekhaa to make her Kannada film debut \n",
      ">>> Suggested(inference) headline : \n",
      "\n",
      "\n",
      ">>> Original article sources      : Gmail on Tuesday faced a global outage, which also affected India, wherein certain users complained they faced a '404 error' message while trying to sign-in to their accounts. The error message read: \"The requested URL was not found on this server. That's all we know.\" Google responded saying \"problem with Gmail should be resolved (now). We apologise for the inconvenience\".\n",
      ">>> Actual(label) headline        : Gmail faces temporary global outage, users face '404 error'\n",
      ">>> Suggested(inference) headline : Gmail on Tuesday faced a global outage, which also affected India, wherein certain users complained they faced a '404 error' message while trying to sign-in to their accounts.\n",
      "\n",
      "\n",
      ">>> Original article sources      : Shiv Sena chief Uddhav Thackeray has asked the BJP to decide about the alliance with the Sena within 15 days and said the BJP should make a concrete proposal on the alliance. Thackeray added that only if the BJP agrees to Sena's terms and conditions, the party will agree for an alliance. Sena is free to fight independently, he said. \n",
      ">>> Actual(label) headline        : Decide about an alliance within 15 days: Uddhav to BJP\n",
      ">>> Suggested(inference) headline : Shiv Sena chief Uddhav Thackeray has asked the BJP to decide about the alliance with the Sena within 15 days and said the BJP should make a concrete proposal on the alliance.\n",
      "\n",
      "\n",
      ">>> Original article sources      : BJP President Amit Shah on Wednesday took a dig at the Opposition's proposed grand alliance saying if the \"mahagathbandhan comes to power, each opposition leader will be a Prime Minister every day of the week\". He added, \"[The] country will go on...holiday on Sunday\". He said the Opposition is thinking about leading the country but does not have a leader.\n",
      ">>> Actual(label) headline        : Grand alliance, if wins, will see a new PM every day: Shah\n",
      ">>> Suggested(inference) headline : He said the Opposition is thinking about leading the country but does not have a leader.\n",
      "\n",
      "\n",
      ">>> Original article sources      : Prime Minister Narendra Modi on Wednesday said his government's demonetisation decision made houses affordable for the aspiring youth. He added decisions like demonetisation and RERA have put a check on black money that used to be \"parked in the real estate sector\". He said 'UDAN' (Ude Desh ka Aam Nagrik) scheme has boosted the development of the country's aviation sector.\n",
      ">>> Actual(label) headline        : Demonetisation made homes affordable for youth: PM Modi\n",
      ">>> Suggested(inference) headline : He added decisions like demonetisation and RERA have put a check on black money that used to be \"parked in the real estate sector\".\n",
      "\n",
      "\n"
     ]
    }
   ],
   "source": [
    "for i in range(50, 100):\n",
    "    print(\">>> Original article sources      :\", data.iloc[i][TEXT])\n",
    "    print(\">>> Actual(label) headline        :\", data.iloc[i][HEADLINES])\n",
    "    print(\">>> Suggested(inference) headline :\", summarize(data.iloc[i][TEXT], ratio = 0.4))\n",
    "    print(\"\\n\")"
   ]
  },
  {
   "cell_type": "markdown",
   "id": "8d6e392d",
   "metadata": {},
   "source": [
    "**extractive summarization 결과 분석**\n",
    "- 장점\n",
    "    - 기존의 내용으로부터 발췌하는 방식으로 요약하므로, 문법적으로 매끄럽다\n",
    "    - 내용이 단순한 기사의 경우, 핵심문장 발췌만으로 요약 기능을 할 수 있다\n",
    "- 단점 \n",
    "    - 핵심 문장에 미사여구가 다수 포함되어 있더라도 생략하지 않고 그대로 출력한다 (좀 더 생략이 가능한 부분도 그대로 출력)\n",
    "    - 내용의 기승전결이 뚜렷한 기사의 경우, 핵심문장 발췌만으로는 전반적인 내용을 알기 어렵다\n",
    "    - 요약의 질이 radio & words 인자값의 영향을 크게 받는다. 짧은 기사의 경우 ratio/words에 따라 아예 요약 결과를 도출할 수 없는 경우도 많으며, 긴 기사의 경우 ratio/words에 따라 제목이 아닌 또 다른 기사 수준으로 장황한 요약 결과를 도출하는 경두가 많다 -> 적절한 ratio/words 값을 설정하기 위한 연구가 필요하다"
   ]
  },
  {
   "cell_type": "markdown",
   "id": "ff666b47",
   "metadata": {},
   "source": [
    "---\n",
    "**회고록**  \n",
    "열심히 학습 모델을 구현한 것에 비해 abstractive summarization 분석의 성능이 좋지 않아 속상하다.  \n",
    "데이터 전처리 방향 또한 보완할 필요가 있을 것이다. (불용어를 전부 다 없애버리는 것이 과연 옳은 선택이였을까 😨)  \n",
    "extractive summarization 은 데이터 전처리 없이 바로 함수 호출 코드 한 줄 만으로 해결되니 신기하다.  \n",
    "이렇게 함수만 대충 호출했을 뿐인데도 (최소한 오늘의 실습에서만큼은) abstractive summarization 보다 성능이 월등히 뛰어나서 신기하다 😗  "
   ]
  }
 ],
 "metadata": {
  "kernelspec": {
   "display_name": "Python 3 (ipykernel)",
   "language": "python",
   "name": "python3"
  },
  "language_info": {
   "codemirror_mode": {
    "name": "ipython",
    "version": 3
   },
   "file_extension": ".py",
   "mimetype": "text/x-python",
   "name": "python",
   "nbconvert_exporter": "python",
   "pygments_lexer": "ipython3",
   "version": "3.9.7"
  }
 },
 "nbformat": 4,
 "nbformat_minor": 5
}
