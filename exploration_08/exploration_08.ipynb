{
 "cells": [
  {
   "cell_type": "markdown",
   "id": "9dc09558",
   "metadata": {},
   "source": [
    "# 프로젝트 : 네이버 영화리뷰 감성분석 도전하기"
   ]
  },
  {
   "cell_type": "markdown",
   "id": "28f9b2c4",
   "metadata": {},
   "source": [
    "### 📚 Import libraries & packages"
   ]
  },
  {
   "cell_type": "code",
   "execution_count": 2,
   "id": "90ef908b",
   "metadata": {},
   "outputs": [],
   "source": [
    "# import utility tools\n",
    "from collections import Counter\n",
    "import os\n",
    "\n",
    "# import data tools\n",
    "import numpy as np\n",
    "import pandas as pd\n",
    "from konlpy.tag import Mecab    # (Python Korean something)\n",
    "\n",
    "# import visual tools\n",
    "import matplotlib.pyplot as plt\n",
    "\n",
    "# import ML tools\n",
    "import sklearn.model_selection as model_selection\n",
    "import tensorflow as tf\n",
    "from gensim.models import keyedvectors"
   ]
  },
  {
   "cell_type": "markdown",
   "id": "1cfcac39",
   "metadata": {},
   "source": [
    "### 📚 Define constants"
   ]
  },
  {
   "cell_type": "code",
   "execution_count": 3,
   "id": "46b4d990",
   "metadata": {},
   "outputs": [],
   "source": [
    "# word-index dictionary constants\n",
    "EMPTY_STR = \"\"\n",
    "\n",
    "PAD_STR = \"<PAD>\"\n",
    "PAD_NUM = 0\n",
    "BOS_STR = \"<BOS>\"\n",
    "BOS_NUM = 1\n",
    "UNK_STR = \"<UNK>\"\n",
    "UNK_NUM = 2\n",
    "UNU_STR = \"<UNUSED>\"\n",
    "UNU_NUM = 3\n",
    "\n",
    "\n",
    "# ML algorithms type\n",
    "RNN = 1\n",
    "LSTM = 1\n",
    "CNN = 2\n",
    "POOL = 3\n",
    "\n",
    "\n",
    "# hyper-parameters\n",
    "EPOCHS = 8\n",
    "BATCH_SIZE = 512\n",
    "VERBOSE = 0\n",
    "\n",
    "TOTAL_WORDS = 10000\n",
    "EMB_VEC_DIM = 100\n",
    "\n",
    "\n",
    "# data file path\n",
    "file_path = os.getenv('HOME')+'/aiffel/sentiment_classification/data/'"
   ]
  },
  {
   "cell_type": "markdown",
   "id": "4348f408",
   "metadata": {},
   "source": [
    "### 📚 Define useful embedding methods"
   ]
  },
  {
   "cell_type": "code",
   "execution_count": 4,
   "id": "efc34097",
   "metadata": {},
   "outputs": [],
   "source": [
    "# convert each word in one sentence into index number\n",
    "# INPUT  : list of strings (each string = one sentence),\n",
    "#          dictionary which KEY is word string and VALUE is corresponding index number\n",
    "# OUTPUT : 2D numpy array (ROW : each sentence, COL : index number of each word)\n",
    "def encodeSentence(sentence_list, word_to_num_dict):\n",
    "    results = []\n",
    "    for sentence in sentence_list:\n",
    "        nums = []\n",
    "        nums.append(BOS_NUM)\n",
    "        \n",
    "        for word in sentence.split():\n",
    "            if word in word_to_num_dict:\n",
    "                nums.append(world_to_num_dict[word])\n",
    "            else:\n",
    "                nums.append(UNK_NUM)\n",
    "                \n",
    "        results.append(nums)\n",
    "        \n",
    "    return np.array(results, dtype = object)\n",
    "\n",
    "\n",
    "\n",
    "# convert numbers into word strings and merge as one sentence string\n",
    "# INPUT  : 2D numpy array (ROW: each sentences, COL : index number of each word),\n",
    "#          dictionary which KEY is index number and VALUE is corresponding word string\n",
    "# OUTPUT : list of strings (each string = one sentences)\n",
    "def decodeSentences(nums_list, num_to_word_dict):\n",
    "    results = []\n",
    "    for nums in nums_list:\n",
    "        words = []\n",
    "        for n in nums:\n",
    "            if n == BOS_NUM or n == PAD_NUM:\n",
    "                continue\n",
    "            elif n == UNK or n not in num_to_word_dict:\n",
    "                words.append(UNK_STR)\n",
    "            else:\n",
    "                words.append(num_to_word_dict[n])\n",
    "                \n",
    "        results.append(\"\".join(words))\n",
    "\n",
    "    return np.array(results, dtype = object)\n",
    "\n",
    "\n",
    "\n",
    "# get a dictionary that KEY and VALUE are switched\n",
    "def convertDict(input_dictionary):\n",
    "    converted_dict = {}\n",
    "    for key, value in input_dictionary.items():\n",
    "        converted_dict[value] = key\n",
    "    return converted_dict"
   ]
  },
  {
   "cell_type": "markdown",
   "id": "adefbef9",
   "metadata": {},
   "source": [
    "### 📚 Define Korean data loader method"
   ]
  },
  {
   "cell_type": "code",
   "execution_count": 5,
   "id": "cbcd3de9",
   "metadata": {},
   "outputs": [],
   "source": [
    "def loadKoreanData(train_data, test_data, num_words=TOTAL_WORDS):\n",
    "    tokenizer = Mecab()\n",
    "    stopwords = ['의','가','이','은','들','는','좀','잘','걍','과','도','를','으로','자','에','와','한','하다']\n",
    "\n",
    "    # remove duplicated & null values\n",
    "    train_data.drop_duplicates(subset = [\"document\"], inplace = True)\n",
    "    train_data = train_data.dropna(how = \"any\") \n",
    "    test_data.drop_duplicates(subset = [\"document\"], inplace = True)\n",
    "    test_data = test_data.dropna(how = \"any\") \n",
    "    \n",
    "    X_train = []\n",
    "    for sentence in train_data[\"document\"]:\n",
    "        words = tokenizer.morphs(sentence)  # split sentence into words\n",
    "        words = [w for w in words if not w in stopwords]  # filter stopwords\n",
    "        X_train.append(words)\n",
    "\n",
    "    X_test = []\n",
    "    for sentence in test_data[\"document\"]:\n",
    "        temp_X = tokenizer.morphs(sentence) # 토큰화\n",
    "        temp_X = [word for word in temp_X if not word in stopwords] # 불용어 제거\n",
    "        X_test.append(temp_X)\n",
    "    \n",
    "\n",
    "    every_words = np.concatenate(X_train).tolist()    # list for every words in X_train\n",
    "    counter = Counter(every_words)\n",
    "    counter = counter.most_common(TOTAL_WORDS - 4)    # -4 for <PAD>, <BOS>, <UNK>, <UNU>\n",
    "    common_words = [PAD_STR, BOS_STR, UNK_STR, UNU_STR] + [key for key, _ in counter]\n",
    "    word_to_num_dict = {word: num for num, word in enumerate(common_words)}\n",
    "    num_to_word_dict = convertDict(word_to_num_dict)\n",
    "        \n",
    "        \n",
    "    def encodeWords(words):\n",
    "        return [word_to_num_dict[w] if w in word_to_num_dict else UNK_NUM for w in words]\n",
    "        \n",
    "    X_train = np.array(list(map(encodeWords, X_train)), dtype = object)\n",
    "    X_test = np.array(list(map(encodeWords, X_test)), dtype = object)\n",
    "    y_train = np.array(list(train_data[\"label\"]))\n",
    "    y_test = np.array(list(test_data[\"label\"]))\n",
    "        \n",
    "    return X_train, y_train, X_test, y_test, word_to_num_dict, num_to_word_dict"
   ]
  },
  {
   "cell_type": "markdown",
   "id": "82ebcb98",
   "metadata": {},
   "source": [
    "### 📚 Define useful ML methods"
   ]
  },
  {
   "cell_type": "code",
   "execution_count": 6,
   "id": "38bbebd5",
   "metadata": {},
   "outputs": [],
   "source": [
    "# decide proper \"maxlen\" argument value for pad_sequences() \n",
    "def decideMaxlen(X_train, X_test):\n",
    "    X = list(X_train) + list(X_test)\n",
    "    sentence_length_info = np.array([len(sentence) for sentence in list(X)])\n",
    "\n",
    "    length_mean = np.mean(sentence_length_info)\n",
    "    length_max = np.max(sentence_length_info)\n",
    "    length_std = np.std(sentence_length_info)\n",
    "\n",
    "    maxlen = length_mean + length_std * 2\n",
    "    return int(maxlen)\n",
    "\n",
    "\n",
    "\n",
    "# generate a machine learning model with special structres\n",
    "# structure can be decided according to \"model_structure\" argument\n",
    "def genMLmodel(embedding_matrix, maxlen, total_words = TOTAL_WORDS, vec_dim = EMB_VEC_DIM, model_structure = RNN):\n",
    "    model = tf.keras.Sequential()\n",
    "    model.add(tf.keras.layers.Embedding(total_words, vec_dim, input_shape=(None,)))\n",
    "    #model.add(tf.keras.layers.Embedding(total_words,\n",
    "    #                                    vec_dim,\n",
    "    #                                    embeddings_initializer = tf.keras.initializers.Constant(embedding_matrix),  # 카피한 임베딩을 여기서 활용\n",
    "    #                                    input_length = maxlen,                            \n",
    "    #                                    trainable = True))   # trainable을 True로 주면 Fine-tuning\n",
    "    \n",
    "    if model_structure == RNN or LSTM:\n",
    "        model.add(tf.keras.layers.LSTM(8))   # 가장 널리 쓰이는 RNN인 LSTM 레이어를 사용하였습니다. 이때 LSTM state 벡터의 차원수는 8로 하였습니다. (변경 가능)\n",
    "        model.add(tf.keras.layers.Dense(8, activation = 'relu'))\n",
    "        model.add(tf.keras.layers.Dense(1, activation = 'sigmoid'))  # 최종 출력은 긍정/부정을 나타내는 1dim 입니다.\n",
    "    \n",
    "    elif model_structure == CNN:\n",
    "        model.add(tf.keras.layers.Conv1D(16, 7, activation='relu'))\n",
    "        model.add(tf.keras.layers.MaxPooling1D(5))\n",
    "        model.add(tf.keras.layers.Conv1D(16, 7, activation='relu'))\n",
    "        model.add(tf.keras.layers.GlobalMaxPooling1D())\n",
    "        model.add(tf.keras.layers.Dense(8, activation='relu'))\n",
    "        model.add(tf.keras.layers.Dense(1, activation='sigmoid'))  # 최종 출력은 긍정/부정을 나타내는 1dim 입니다.\n",
    "\n",
    "    elif model_structre == POOL:\n",
    "        model.add(tf.keras.layers.GlobalMaxPooling1D())\n",
    "        model.add(tf.keras.layers.Dense(8, activation='relu'))\n",
    "        model.add(tf.keras.layers.Dense(1, activation='sigmoid'))  # 최종 출력은 긍정/부정을 나타내는 1dim 입니다.\n",
    "    \n",
    "    #print(model.summary())\n",
    "    return model\n",
    "\n",
    "\n",
    "\n",
    "# visualize ML performance\n",
    "# draw two lineplots of loss by epochs and accuracy by epochs\n",
    "def displayPerformance(performance):\n",
    "    # define data\n",
    "    acc = performance[\"accuracy\"]\n",
    "    val_acc = performance[\"val_accuracy\"]\n",
    "    loss = performance[\"loss\"]\n",
    "    val_loss = performance[\"val_loss\"]\n",
    "    \n",
    "    epochs = range(1, len(acc) + 1)\n",
    "    \n",
    "    \n",
    "    # design plot figure\n",
    "    fig = plt.figure(figsize = (12, 5))\n",
    "    \n",
    "    # subplot for loss\n",
    "    subfig1 = fig.add_subplot(1, 2, 1)\n",
    "    subfig1.plot(epochs, loss, label = \"training\", color = \"magenta\")\n",
    "    subfig1.plot(epochs, val_loss, label = \"validation\", color = \"pink\")\n",
    "    subfig1.set_xlabel(\"Epochs\")\n",
    "    subfig1.set_ylabel(\"Loss\")\n",
    "    subfig1.set_title(\"Training/Validation Loss by Epochs\")\n",
    "    subfig1.legend()\n",
    "    subfig1.grid()\n",
    "    \n",
    "    # subplot for loss\n",
    "    subfig2 = fig.add_subplot(1, 2, 2)\n",
    "    subfig2.plot(epochs, acc, label = \"training\", color = \"magenta\")\n",
    "    subfig2.plot(epochs, val_acc, label = \"validation\", color = \"pink\")\n",
    "    subfig2.set_xlabel(\"Epochs\")\n",
    "    subfig2.set_ylabel(\"Accuracy\")\n",
    "    subfig2.set_title(\"Training/Validation Accuracy by Epochs\")\n",
    "    subfig2.legend()\n",
    "    subfig2.grid()\n",
    "    \n",
    "    # display plot figure\n",
    "    plt.show()\n",
    "    print(\">>> Minimum Loss     : \", min(loss))\n",
    "    print(\">>> Maximum Accuracy : \", max(acc))\n",
    "    \n",
    "    \n",
    "\n",
    "# operate every commands step by step to perform ML test & evaluation\n",
    "def learingPipeline(embedding, maxlen, X, y, X_test, y_test, model = RNN, total_words = TOTAL_WORDS, vec_dim = EMB_VEC_DIM, epochs = EPOCHS, verbose = VERBOSE):\n",
    "    # set model configurations\n",
    "    \n",
    "    \n",
    "    model = genMLmodel(embedding, maxlen, total_words, vec_dim, model_structure = model)\n",
    "    model.compile(optimizer = \"adam\", loss = \"binary_crossentropy\", metrics=[\"accuracy\"])\n",
    "    # split data for training & validation\n",
    "    X_train, X_valid, y_train, y_valid = model_selection.train_test_split(X, y)\n",
    "    \n",
    "    log = model.fit(X_train, y_train, epochs = epochs, batch_size = BATCH_SIZE, validation_data = (X_valid, y_valid), verbose = verbose)\n",
    "    evaluation = model.evaluate(X_test, y_test, verbose = verbose)\n",
    "    performance = log.history\n",
    "    \n",
    "    displayPerformance(performance)\n",
    "    print(\">>> The model performance evaluation is successfully finished.\")\n",
    "    return True"
   ]
  },
  {
   "cell_type": "markdown",
   "id": "24bfda66",
   "metadata": {},
   "source": [
    "### 📚 Load datasets"
   ]
  },
  {
   "cell_type": "code",
   "execution_count": 7,
   "id": "a3520695",
   "metadata": {},
   "outputs": [],
   "source": [
    "# train_data : 150,000 sentences * 3 columns (\"id\", \"document\", \"label\")\n",
    "train_data = pd.read_table('~/aiffel/sentiment_classification/data/ratings_train.txt')\n",
    "\n",
    "# test_data  :  50,000 sentences * 3 columns\n",
    "test_data = pd.read_table('~/aiffel/sentiment_classification/data/ratings_test.txt')"
   ]
  },
  {
   "cell_type": "markdown",
   "id": "02713c66",
   "metadata": {},
   "source": [
    "### 📚 Data pre-processing 1 (remove duplicated & null, get ndarray data)"
   ]
  },
  {
   "cell_type": "code",
   "execution_count": 8,
   "id": "49f6a2b6",
   "metadata": {},
   "outputs": [],
   "source": [
    "# extract word data for ML practice with pre-processing (remove duplicated & null data)\n",
    "X_train, y_train, X_test, y_test, word_to_num_dict, num_to_word_dict = loadKoreanData(train_data, test_data)"
   ]
  },
  {
   "cell_type": "markdown",
   "id": "70c74958",
   "metadata": {},
   "source": [
    "### 📚 Data pre-processing 2 (vector length padding)"
   ]
  },
  {
   "cell_type": "code",
   "execution_count": 9,
   "id": "0bcc290f",
   "metadata": {},
   "outputs": [],
   "source": [
    "# get proper \"maxlen\" argument value for pad_sequences()\n",
    "maxlen = decideMaxlen(X_train, X_test)\n",
    "\n",
    "\n",
    "# resize feature matrices (X_train, X_test) by padding\n",
    "X_train = tf.keras.preprocessing.sequence.pad_sequences(X_train,\n",
    "                                                        value = PAD_NUM,\n",
    "                                                        padding = \"post\", # 혹은 'pre'\n",
    "                                                        maxlen = maxlen)\n",
    "\n",
    "X_test = tf.keras.preprocessing.sequence.pad_sequences(X_test,\n",
    "                                                       value = PAD_NUM,\n",
    "                                                       padding = \"post\", # 혹은 'pre'\n",
    "                                                       maxlen = maxlen)"
   ]
  },
  {
   "cell_type": "markdown",
   "id": "73500b97",
   "metadata": {},
   "source": [
    "### 📚 Generate embedding layer & embedding matrix"
   ]
  },
  {
   "cell_type": "code",
   "execution_count": 10,
   "id": "7f1a2653",
   "metadata": {},
   "outputs": [
    {
     "name": "stdout",
     "output_type": "stream",
     "text": [
      ">>> Embedding vector successfully generated!\n"
     ]
    }
   ],
   "source": [
    "embedding = tf.keras.layers.Embedding(input_dim = TOTAL_WORDS,\n",
    "                                        output_dim = EMB_VEC_DIM,\n",
    "                                        mask_zero = True)\n",
    "\n",
    "embedding_matrix = embedding(X_train)\n",
    "print(\">>> Embedding vector successfully generated!\")"
   ]
  },
  {
   "cell_type": "markdown",
   "id": "a0edcd5d",
   "metadata": {},
   "source": [
    "### 📚 Test and evaluate ML model"
   ]
  },
  {
   "cell_type": "code",
   "execution_count": 11,
   "id": "24e328e8",
   "metadata": {
    "scrolled": false
   },
   "outputs": [
    {
     "data": {
      "image/png": "[encoded data removed]",
      "text/plain": [
       "<Figure size 864x360 with 2 Axes>"
      ]
     },
     "metadata": {
      "needs_background": "light"
     },
     "output_type": "display_data"
    },
    {
     "name": "stdout",
     "output_type": "stream",
     "text": [
      ">>> Minimum Loss     :  0.21035480499267578\n",
      ">>> Maximum Accuracy :  0.9109143018722534\n",
      ">>> The model performance evaluation is successfully finished.\n"
     ]
    },
    {
     "data": {
      "text/plain": [
       "True"
      ]
     },
     "execution_count": 11,
     "metadata": {},
     "output_type": "execute_result"
    }
   ],
   "source": [
    "learingPipeline(embedding = embedding_matrix, maxlen = maxlen, X = X_train, y = y_train, X_test = X_test, y_test = y_test)"
   ]
  },
  {
   "cell_type": "markdown",
   "id": "74018a4a",
   "metadata": {},
   "source": [
    "### 📚 Analyze the performance of embedding vector\n",
    "네이버 영화 덧글 데이터로부터 자체적으로 만들어낸 embedding vector 를 이용한 학습 실험 결과는 accuracy가 약 90%를 달성했다.  \n",
    "따라서 프로젝트에 제시된 내용대로 embedding vector를 Word2Vec 을 이용하여 학습을 다시 시도하고자 한다 😅"
   ]
  },
  {
   "cell_type": "markdown",
   "id": "1b3db12b",
   "metadata": {},
   "source": [
    "### 📚 Improve embedding matrix using Korean Word2Vec"
   ]
  },
  {
   "cell_type": "code",
   "execution_count": 12,
   "id": "9fd16b3b",
   "metadata": {},
   "outputs": [],
   "source": [
    "# load Korean words embedding matrix\n",
    "w2v_ko = keyedvectors.Word2VecKeyedVectors.load(file_path + \"word2vec_ko.model\")\n",
    "\n",
    "# improve previous embedding matrix according to Word2Vec_Ko\n",
    "# Word2Vec_Ko에 기존 embedding matrix 와 일치하는 단어에 대한 데이터가 있다면 대체\n",
    "embedding_matrix = np.array(embedding_matrix)\n",
    "for i in range(4, TOTAL_WORDS):\n",
    "    if num_to_word_dict[i] in w2v_ko.wv:\n",
    "        embedding_matrix[i] = w2v_ko.wv[num_to_word_dict[i]]"
   ]
  },
  {
   "cell_type": "markdown",
   "id": "7aab5e0c",
   "metadata": {},
   "source": [
    "### 📚 Test and evaluate ML model with improved embedding matrix"
   ]
  },
  {
   "cell_type": "code",
   "execution_count": 13,
   "id": "f469d579",
   "metadata": {},
   "outputs": [
    {
     "data": {
      "image/png": "[encoded data removed]",
      "text/plain": [
       "<Figure size 864x360 with 2 Axes>"
      ]
     },
     "metadata": {
      "needs_background": "light"
     },
     "output_type": "display_data"
    },
    {
     "name": "stdout",
     "output_type": "stream",
     "text": [
      ">>> Minimum Loss     :  0.21143455803394318\n",
      ">>> Maximum Accuracy :  0.9147360324859619\n",
      ">>> The model performance evaluation is successfully finished.\n"
     ]
    },
    {
     "data": {
      "text/plain": [
       "True"
      ]
     },
     "execution_count": 13,
     "metadata": {},
     "output_type": "execute_result"
    }
   ],
   "source": [
    "learingPipeline(embedding = embedding_matrix, maxlen = maxlen, X = X_train, y = y_train, X_test = X_test, y_test = y_test)"
   ]
  },
  {
   "cell_type": "markdown",
   "id": "0eba473d",
   "metadata": {},
   "source": [
    "---\n",
    "**회고록**  \n",
    "노드 내 영어 문장을 분석하는 실습에서는 embedding vector 크기를 5로 설정하여 자체 학습하여 accuracy를 약 50% 이상을 달성하였고, Word2Vec(embedding vector 크기 100)을 적용하여 accuracy를 약 80% 이상으로 향상시켰다.  \n",
    "그러나 한국어 문장을 분석하는 실습에서는 Word2Vec 적용 여부와 상관없이 accuracy를 약 90% 이상을 달성하였다.  \n",
    "Word2Vec 적용 전후의 accuracy가 유사했기 때문에, 오히려 Word2Vec의 적용이 무의미해졌다. \n",
    "\n",
    "\n",
    "프로젝트에서는 여러가지 parameter나 학습 모델 구조의 변경을 시도하여 85% 이상의 accuracy를 달성할 것을 요구하였으나,\n",
    "노드 실습에서 제시한 예시 코드를 활용하여 한번에 90% 이상 달성하였기에 달리 실험을 반복할 필요가 없었다... 😅  \n",
    "다른 사람들은 예시 코드를 사용하면 약 84% 가 나온다는데, 내 코드는 왜 이러는지 모르겠다.\n",
    "코드를 그대로 복붙하지 않고, 직접 옮겨 써가면서 납득이 가지 않는 부분들을 조금씩 수정했는데 (변수명 정리, 명령어 실행 순서 등) 기본 알고리즘이 같더라도 이런 사소한 부분에서 차이가 발생했던 게 아닌가 예상한다.\n",
    "\n",
    "또 영어 문장 실습과 비교했을 때 기본적으로 한국어 데이터에 좀 더 성능이 높게 작용하는 것 같은데, data loader 함수가 단어를 쪼개는 아이디어가 탁월하거나 한국어 자체가 문맥 파악이 비교적 더 직관적인 것 같다. "
   ]
  }
 ],
 "metadata": {
  "kernelspec": {
   "display_name": "Python 3 (ipykernel)",
   "language": "python",
   "name": "python3"
  },
  "language_info": {
   "codemirror_mode": {
    "name": "ipython",
    "version": 3
   },
   "file_extension": ".py",
   "mimetype": "text/x-python",
   "name": "python",
   "nbconvert_exporter": "python",
   "pygments_lexer": "ipython3",
   "version": "3.9.7"
  }
 },
 "nbformat": 4,
 "nbformat_minor": 5
}
